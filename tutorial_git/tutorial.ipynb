{
 "cells": [
  {
   "cell_type": "markdown",
   "metadata": {},
   "source": [
    "# Git and Github Tutorial\n",
    "This tutorial will walk you through some of the basics of git (repos, comitting, stashing, branches) before applying some of these concepts in a social coding context (i.e., Github). \n",
    "\n",
    "IMPORTANT: You must either use a bash shell or rewrite these commands in a terminal. This is not python code.\n",
    "\n",
    "Reasons to use Git\n",
    "1. Version control with branches\n",
    "2. Free and open source\n",
    "3. Lends itself well to collaborative coding tools (like Github)\n",
    "\n",
    "Reasons to use Github\n",
    "1. Greatly facilitated collaborative coding through repositories (or \"repos\")\n",
    "2. Issue tracking (both code bugs and suggested enhancements)\n",
    "3. Ease of reviewing code changes\n",
    "4. Continuous integration (CI) for automatic code checking\n",
    "5. Octocat"
   ]
  },
  {
   "cell_type": "markdown",
   "metadata": {},
   "source": [
    "# The basics"
   ]
  },
  {
   "cell_type": "code",
   "execution_count": 1,
   "metadata": {
    "collapsed": false
   },
   "outputs": [
    {
     "name": "stdout",
     "output_type": "stream",
     "text": [
      "Initialized empty Git repository in /Users/rkp/Dropbox/Repositories/dbw_2015/tutorial_git/my_project/.git/\r\n"
     ]
    }
   ],
   "source": [
    "git init my_project"
   ]
  },
  {
   "cell_type": "code",
   "execution_count": 2,
   "metadata": {
    "collapsed": false
   },
   "outputs": [
    {
     "name": "stdout",
     "output_type": "stream",
     "text": []
    }
   ],
   "source": [
    "cd my_project"
   ]
  },
  {
   "cell_type": "code",
   "execution_count": 2,
   "metadata": {
    "collapsed": false
   },
   "outputs": [
    {
     "name": "stdout",
     "output_type": "stream",
     "text": [
      "\u001b[34m.\u001b[m\u001b[m/                  \u001b[34m..\u001b[m\u001b[m/                 \u001b[34m.ipynb_checkpoints\u001b[m\u001b[m/ tutorial.ipynb\r\n"
     ]
    }
   ],
   "source": [
    "ls -a"
   ]
  },
  {
   "cell_type": "code",
   "execution_count": 4,
   "metadata": {
    "collapsed": false,
    "scrolled": true
   },
   "outputs": [
    {
     "name": "stdout",
     "output_type": "stream",
     "text": [
      "# On branch master\r\n",
      "#\r\n",
      "# Initial commit\r\n",
      "#\r\n",
      "nothing to commit (create/copy files and use \"git add\" to track)\r\n"
     ]
    }
   ],
   "source": [
    "git status"
   ]
  },
  {
   "cell_type": "markdown",
   "metadata": {},
   "source": [
    "### *Creating a new file and committing it.*\n",
    "*Make a file called \"my_code.py\" inside the \"my_project\" directory and add the following lines:*\n",
    "```\n",
    "from __future__ import division\n",
    "import numpy as np\n",
    "import matplotlib.pyplot as plt\n",
    "```"
   ]
  },
  {
   "cell_type": "code",
   "execution_count": 5,
   "metadata": {
    "collapsed": false,
    "scrolled": true
   },
   "outputs": [
    {
     "name": "stdout",
     "output_type": "stream",
     "text": [
      "# On branch master\r\n",
      "#\r\n",
      "# Initial commit\r\n",
      "#\r\n",
      "# Untracked files:\r\n",
      "#   (use \"git add <file>...\" to include in what will be committed)\r\n",
      "#\r\n",
      "#\t\u001b[31mmy_code.py\u001b[m\r\n",
      "nothing added to commit but untracked files present (use \"git add\" to track)\r\n"
     ]
    }
   ],
   "source": [
    "git status"
   ]
  },
  {
   "cell_type": "markdown",
   "metadata": {},
   "source": [
    "*The command *`git add <file>`* moves a modified file to the staging area.*"
   ]
  },
  {
   "cell_type": "code",
   "execution_count": 6,
   "metadata": {
    "collapsed": false
   },
   "outputs": [
    {
     "name": "stdout",
     "output_type": "stream",
     "text": []
    }
   ],
   "source": [
    "git add my_code.py"
   ]
  },
  {
   "cell_type": "code",
   "execution_count": 7,
   "metadata": {
    "collapsed": false
   },
   "outputs": [
    {
     "name": "stdout",
     "output_type": "stream",
     "text": [
      "# On branch master\r\n",
      "#\r\n",
      "# Initial commit\r\n",
      "#\r\n",
      "# Changes to be committed:\r\n",
      "#   (use \"git rm --cached <file>...\" to unstage)\r\n",
      "#\r\n",
      "#\t\u001b[32mnew file:   my_code.py\u001b[m\r\n",
      "#\r\n"
     ]
    }
   ],
   "source": [
    "git status"
   ]
  },
  {
   "cell_type": "markdown",
   "metadata": {},
   "source": [
    "*Note: files can be removed from the staging area using * `git reset`."
   ]
  },
  {
   "cell_type": "markdown",
   "metadata": {},
   "source": [
    "*The command *`git commit -m <message>`* saves the changes in the staging area to your project history.*"
   ]
  },
  {
   "cell_type": "code",
   "execution_count": 8,
   "metadata": {
    "collapsed": false
   },
   "outputs": [
    {
     "name": "stdout",
     "output_type": "stream",
     "text": [
      "[master (root-commit) 1c7f463] Start my code.\r\n",
      " 1 file changed, 3 insertions(+)\r\n",
      " create mode 100644 my_code.py\r\n"
     ]
    }
   ],
   "source": [
    "git commit -m \"Start my code.\""
   ]
  },
  {
   "cell_type": "code",
   "execution_count": 9,
   "metadata": {
    "collapsed": false
   },
   "outputs": [
    {
     "name": "stdout",
     "output_type": "stream",
     "text": [
      "# On branch master\r\n",
      "nothing to commit (working directory clean)\r\n"
     ]
    }
   ],
   "source": [
    "git status"
   ]
  },
  {
   "cell_type": "markdown",
   "metadata": {},
   "source": [
    "### *Committing modifications to a file.*\n",
    "*Add the following lines to my_code.py:*\n",
    "```\n",
    "def print_hi():\n",
    "    print 'hi'\n",
    "```"
   ]
  },
  {
   "cell_type": "code",
   "execution_count": 11,
   "metadata": {
    "collapsed": false
   },
   "outputs": [
    {
     "name": "stdout",
     "output_type": "stream",
     "text": [
      "[master 0afca13] Add print_hi function.\r\n",
      " 1 file changed, 4 insertions(+)\r\n"
     ]
    }
   ],
   "source": [
    "git add my_code.py\n",
    "git commit -m \"Add print_hi function.\""
   ]
  },
  {
   "cell_type": "markdown",
   "metadata": {},
   "source": [
    "*You can use *`git log`* (with various options) to view your project history. (Note that this will look nicer in your terminal window.)*"
   ]
  },
  {
   "cell_type": "code",
   "execution_count": 12,
   "metadata": {
    "collapsed": false
   },
   "outputs": [
    {
     "name": "stdout",
     "output_type": "stream",
     "text": [
      "\u001b[?1h\u001b=\u001b[33m0afca13 (\u001b[1;36mHEAD\u001b[m\u001b[33m, \u001b[1;32mmaster\u001b[m\u001b[33m)\u001b[m Add print_hi function.\u001b[m\r\n",
      "\u001b[33m1c7f463\u001b[m Start my code.\u001b[m\r\n",
      "\r",
      "\u001b[K\u001b[?1l\u001b>"
     ]
    }
   ],
   "source": [
    "git log --oneline --decorate --all"
   ]
  },
  {
   "cell_type": "markdown",
   "metadata": {
    "collapsed": true
   },
   "source": [
    "### *Looking at past commits*\n",
    "*You can view a previous commit using:* `git checkout <commit>` \n",
    "\n",
    "*(Note that commit hashes are essentially random and will be specific to each repository.)*"
   ]
  },
  {
   "cell_type": "code",
   "execution_count": 15,
   "metadata": {
    "collapsed": false
   },
   "outputs": [
    {
     "name": "stdout",
     "output_type": "stream",
     "text": [
      "Note: checking out '1c7f463'.\r\n",
      "\r\n",
      "You are in 'detached HEAD' state. You can look around, make experimental\r\n",
      "changes and commit them, and you can discard any commits you make in this\r\n",
      "state without impacting any branches by performing another checkout.\r\n",
      "\r\n",
      "If you want to create a new branch to retain commits you create, you may\r\n",
      "do so (now or later) by using -b with the checkout command again. Example:\r\n",
      "\r\n",
      "  git checkout -b new_branch_name\r\n",
      "\r\n",
      "HEAD is now at 1c7f463... Start my code.\r\n"
     ]
    }
   ],
   "source": [
    "git checkout 1c7f463"
   ]
  },
  {
   "cell_type": "markdown",
   "metadata": {},
   "source": [
    "*Now go take a look at `my_code.py`. You won't see your recent changes there. Why not?*"
   ]
  },
  {
   "cell_type": "code",
   "execution_count": 16,
   "metadata": {
    "collapsed": false
   },
   "outputs": [
    {
     "name": "stdout",
     "output_type": "stream",
     "text": [
      "\u001b[?1h\u001b=\u001b[33m0afca13 (\u001b[1;32mmaster\u001b[m\u001b[33m)\u001b[m Add print_hi function.\u001b[m\r\n",
      "\u001b[33m1c7f463 (\u001b[1;36mHEAD\u001b[m\u001b[33m)\u001b[m Start my code.\u001b[m\r\n",
      "\r",
      "\u001b[K\u001b[?1l\u001b>"
     ]
    }
   ],
   "source": [
    "git log --oneline --decorate --all"
   ]
  },
  {
   "cell_type": "markdown",
   "metadata": {},
   "source": [
    "*If you wanted to modify this code you would make a new branch from this commit, which we'll talk about later.*"
   ]
  },
  {
   "cell_type": "markdown",
   "metadata": {},
   "source": [
    "*To return the HEAD to the most recent commit, use:*  `git checkout master`"
   ]
  },
  {
   "cell_type": "code",
   "execution_count": 17,
   "metadata": {
    "collapsed": false
   },
   "outputs": [
    {
     "name": "stdout",
     "output_type": "stream",
     "text": [
      "Previous HEAD position was 1c7f463... Start my code.\r\n",
      "Switched to branch 'master'\r\n"
     ]
    }
   ],
   "source": [
    "git checkout master"
   ]
  },
  {
   "cell_type": "markdown",
   "metadata": {},
   "source": [
    "*If you want to make sure this worked correctly and took you back to your most recent commit, look at *`my_code.py`."
   ]
  },
  {
   "cell_type": "code",
   "execution_count": 18,
   "metadata": {
    "collapsed": false
   },
   "outputs": [
    {
     "name": "stdout",
     "output_type": "stream",
     "text": [
      "\u001b[?1h\u001b=\u001b[33m0afca13 (\u001b[1;36mHEAD\u001b[m\u001b[33m, \u001b[1;32mmaster\u001b[m\u001b[33m)\u001b[m Add print_hi function.\u001b[m\r\n",
      "\u001b[33m1c7f463\u001b[m Start my code.\u001b[m\r\n",
      "\r",
      "\u001b[K\u001b[?1l\u001b>"
     ]
    }
   ],
   "source": [
    "git log --oneline --decorate --all"
   ]
  },
  {
   "cell_type": "markdown",
   "metadata": {},
   "source": [
    "*To undo a commit use:* `git revert HEAD` *(or* `git revert HEAD~3..HEAD` *to undo the last three commits, for example).*\n",
    "\n",
    "*Note that below we've used the *`--no-edit`* option, since Jupyter won't open a text editor. If you run this in the command line without the *`--no-edit`* option, you'll be taken to a text editor (most likely vim) that allows you to add more detail to your commit message. To enter text press \"i\", which will take you to insert mode. To exit insert mode press \"esc\". To close the text editor and save the commit type \":q\" and hit \"return\".*"
   ]
  },
  {
   "cell_type": "code",
   "execution_count": 19,
   "metadata": {
    "collapsed": false
   },
   "outputs": [
    {
     "name": "stdout",
     "output_type": "stream",
     "text": [
      "[master 37d67c1] Revert \"Add print_hi function.\"\r\n",
      " 1 file changed, 4 deletions(-)\r\n"
     ]
    }
   ],
   "source": [
    "git revert HEAD --no-edit"
   ]
  },
  {
   "cell_type": "code",
   "execution_count": 20,
   "metadata": {
    "collapsed": false
   },
   "outputs": [
    {
     "name": "stdout",
     "output_type": "stream",
     "text": [
      "\u001b[?1h\u001b=\u001b[33m37d67c1 (\u001b[1;36mHEAD\u001b[m\u001b[33m, \u001b[1;32mmaster\u001b[m\u001b[33m)\u001b[m Revert \"Add print_hi function.\"\u001b[m\r\n",
      "\u001b[33m0afca13\u001b[m Add print_hi function.\u001b[m\r\n",
      "\u001b[33m1c7f463\u001b[m Start my code.\u001b[m\r\n",
      "\r",
      "\u001b[K\u001b[?1l\u001b>"
     ]
    }
   ],
   "source": [
    "git log --oneline --decorate --all"
   ]
  },
  {
   "cell_type": "markdown",
   "metadata": {},
   "source": [
    "*Now take a look at * `my_code.py`. *You should see that your changes have been undone.*\n",
    "\n",
    "*Note that *`git revert`* does not actually erase anything from your project history. Instead it makes a new commit in which previous changes have been undone (this means that you can undo this revert as if it were any other commit.*"
   ]
  },
  {
   "cell_type": "markdown",
   "metadata": {},
   "source": [
    "*Now add the change that you actually wanted:*\n",
    "```\n",
    "def print_bye():\n",
    "    print 'bye'\n",
    "```"
   ]
  },
  {
   "cell_type": "code",
   "execution_count": 21,
   "metadata": {
    "collapsed": false
   },
   "outputs": [
    {
     "name": "stdout",
     "output_type": "stream",
     "text": [
      "[master 3f73229] Add print_bye function.\r\n",
      " 1 file changed, 4 insertions(+)\r\n"
     ]
    }
   ],
   "source": [
    "git add my_code.py\n",
    "git commit -m \"Add print_bye function.\""
   ]
  },
  {
   "cell_type": "code",
   "execution_count": 22,
   "metadata": {
    "collapsed": false
   },
   "outputs": [
    {
     "name": "stdout",
     "output_type": "stream",
     "text": [
      "\u001b[?1h\u001b=\u001b[33m3f73229 (\u001b[1;36mHEAD\u001b[m\u001b[33m, \u001b[1;32mmaster\u001b[m\u001b[33m)\u001b[m Add print_bye function.\u001b[m\r\n",
      "\u001b[33m37d67c1\u001b[m Revert \"Add print_hi function.\"\u001b[m\r\n",
      "\u001b[33m0afca13\u001b[m Add print_hi function.\u001b[m\r\n",
      "\u001b[33m1c7f463\u001b[m Start my code.\u001b[m\r\n",
      "\r",
      "\u001b[K\u001b[?1l\u001b>"
     ]
    }
   ],
   "source": [
    "git log --oneline --decorate --all"
   ]
  },
  {
   "cell_type": "markdown",
   "metadata": {},
   "source": [
    "### *Stashing*\n",
    "*Git will not let you checkout a previous a commit if you have modified files in your working directory since your last commit.*\n",
    "\n",
    "*For example, say that you've made another modification to your my_code.py by appending the line:*\n",
    "```\n",
    "def print_why():\n",
    "    # I'll fill in this later\n",
    "```\n",
    "*Now try to checkout one of your earlier commits and note that git won't let you do it.*"
   ]
  },
  {
   "cell_type": "code",
   "execution_count": 24,
   "metadata": {
    "collapsed": false
   },
   "outputs": [
    {
     "name": "stdout",
     "output_type": "stream",
     "text": [
      "error: Your local changes to the following files would be overwritten by checkout:\r\n",
      "\tmy_code.py\r\n",
      "Please, commit your changes or stash them before you can switch branches.\r\n",
      "Aborting\r\n"
     ]
    }
   ],
   "source": [
    "git checkout 1c7f463"
   ]
  },
  {
   "cell_type": "markdown",
   "metadata": {},
   "source": [
    "*To save these changes for later but without committing them, use * `git stash`."
   ]
  },
  {
   "cell_type": "code",
   "execution_count": 25,
   "metadata": {
    "collapsed": false
   },
   "outputs": [
    {
     "name": "stdout",
     "output_type": "stream",
     "text": [
      "Saved working directory and index state WIP on master: 3f73229 Add print_bye function.\r\n",
      "HEAD is now at 3f73229 Add print_bye function.\r\n"
     ]
    }
   ],
   "source": [
    "git stash"
   ]
  },
  {
   "cell_type": "markdown",
   "metadata": {},
   "source": [
    "*You can view all your stashes with *`git stash list` *:*"
   ]
  },
  {
   "cell_type": "code",
   "execution_count": 26,
   "metadata": {
    "collapsed": false
   },
   "outputs": [
    {
     "name": "stdout",
     "output_type": "stream",
     "text": [
      "\u001b[?1h\u001b=stash@{0}: WIP on master: 3f73229 Add print_bye function.\u001b[m\r\n",
      "\r",
      "\u001b[K\u001b[?1l\u001b>"
     ]
    }
   ],
   "source": [
    "git stash list"
   ]
  },
  {
   "cell_type": "markdown",
   "metadata": {},
   "source": [
    "*Now since you've stashed our changes you can move your HEAD to a different commit.*"
   ]
  },
  {
   "cell_type": "code",
   "execution_count": 27,
   "metadata": {
    "collapsed": false
   },
   "outputs": [
    {
     "name": "stdout",
     "output_type": "stream",
     "text": [
      "Note: checking out '1c7f463'.\r\n",
      "\r\n",
      "You are in 'detached HEAD' state. You can look around, make experimental\r\n",
      "changes and commit them, and you can discard any commits you make in this\r\n",
      "state without impacting any branches by performing another checkout.\r\n",
      "\r\n",
      "If you want to create a new branch to retain commits you create, you may\r\n",
      "do so (now or later) by using -b with the checkout command again. Example:\r\n",
      "\r\n",
      "  git checkout -b new_branch_name\r\n",
      "\r\n",
      "HEAD is now at 1c7f463... Start my code.\r\n"
     ]
    }
   ],
   "source": [
    "git checkout 1c7f463"
   ]
  },
  {
   "cell_type": "markdown",
   "metadata": {},
   "source": [
    "*Once you're done looking around go back to the most recent commit.*"
   ]
  },
  {
   "cell_type": "code",
   "execution_count": 28,
   "metadata": {
    "collapsed": false
   },
   "outputs": [
    {
     "name": "stdout",
     "output_type": "stream",
     "text": [
      "Previous HEAD position was 1c7f463... Start my code.\r\n",
      "Switched to branch 'master'\r\n"
     ]
    }
   ],
   "source": [
    "git checkout master"
   ]
  },
  {
   "cell_type": "markdown",
   "metadata": {},
   "source": [
    "*If you look around after having returned to the most recent commit, you'll notice that the changes you stashed are no longer there. To get them back use the following command:*"
   ]
  },
  {
   "cell_type": "code",
   "execution_count": 29,
   "metadata": {
    "collapsed": false
   },
   "outputs": [
    {
     "name": "stdout",
     "output_type": "stream",
     "text": [
      "# On branch master\r\n",
      "# Changes not staged for commit:\r\n",
      "#   (use \"git add <file>...\" to update what will be committed)\r\n",
      "#   (use \"git checkout -- <file>...\" to discard changes in working directory)\r\n",
      "#\r\n",
      "#\t\u001b[31mmodified:   my_code.py\u001b[m\r\n",
      "#\r\n",
      "no changes added to commit (use \"git add\" and/or \"git commit -a\")\r\n",
      "Dropped stash@{0} (4c60a2bf42a97512347a17d5ff6668d11604a938)\r\n"
     ]
    }
   ],
   "source": [
    "git stash pop stash@{0}"
   ]
  },
  {
   "cell_type": "markdown",
   "metadata": {},
   "source": [
    "*Finish up your edits to my_code.py and commit before moving on to the next section.*\n",
    "```\n",
    "def print_why():\n",
    "    print 'why'\n",
    "```"
   ]
  },
  {
   "cell_type": "code",
   "execution_count": 30,
   "metadata": {
    "collapsed": false
   },
   "outputs": [
    {
     "name": "stdout",
     "output_type": "stream",
     "text": [
      "[master f0bc70e] Add print_why function.\r\n",
      " 1 file changed, 5 insertions(+), 1 deletion(-)\r\n"
     ]
    }
   ],
   "source": [
    "git add my_code.py\n",
    "git commit -m \"Add print_why function.\""
   ]
  },
  {
   "cell_type": "markdown",
   "metadata": {},
   "source": [
    "# Branches"
   ]
  },
  {
   "cell_type": "markdown",
   "metadata": {},
   "source": [
    "*Branches allow you to test out features, bug fixes, etc., before integrating them into your main project.*\n",
    "\n",
    "*For example, say you want to add a new function to my_code.py. To do this create a branch named 'feature0' that you can work on without messing up your main project.*\n",
    "\n",
    "*IMPORTANT: The new branch inherits whatever changes are on the current branch. Most of the time, you'll want to be on *`master`* when you create a new branch to avoid inheriting changes from other branches.*"
   ]
  },
  {
   "cell_type": "code",
   "execution_count": 31,
   "metadata": {
    "collapsed": false
   },
   "outputs": [
    {
     "name": "stdout",
     "output_type": "stream",
     "text": []
    }
   ],
   "source": [
    "git checkout master\n",
    "git branch feature0"
   ]
  },
  {
   "cell_type": "markdown",
   "metadata": {},
   "source": [
    "*Running *`git branch`* on its own shows you all the branches and tells you which one you're on.*"
   ]
  },
  {
   "cell_type": "code",
   "execution_count": 32,
   "metadata": {
    "collapsed": false
   },
   "outputs": [
    {
     "name": "stdout",
     "output_type": "stream",
     "text": [
      "  feature0\u001b[m\r\n",
      "* \u001b[32mmaster\u001b[m\r\n"
     ]
    }
   ],
   "source": [
    "git branch"
   ]
  },
  {
   "cell_type": "markdown",
   "metadata": {},
   "source": [
    "*The following shows you all your commits, with the branches and HEAD labeled.*"
   ]
  },
  {
   "cell_type": "code",
   "execution_count": 33,
   "metadata": {
    "collapsed": false
   },
   "outputs": [
    {
     "name": "stdout",
     "output_type": "stream",
     "text": [
      "\u001b[?1h\u001b=\u001b[33mf0bc70e (\u001b[1;36mHEAD\u001b[m\u001b[33m, \u001b[1;32mmaster\u001b[m\u001b[33m, \u001b[1;32mfeature0\u001b[m\u001b[33m)\u001b[m Add print_why function.\u001b[m\r\n",
      "\u001b[33m3f73229\u001b[m Add print_bye function.\u001b[m\r\n",
      "\u001b[33m37d67c1\u001b[m Revert \"Add print_hi function.\"\u001b[m\r\n",
      "\u001b[33m0afca13\u001b[m Add print_hi function.\u001b[m\r\n",
      "\u001b[33m1c7f463\u001b[m Start my code.\u001b[m\r\n",
      "\r",
      "\u001b[K\u001b[?1l\u001b>"
     ]
    }
   ],
   "source": [
    "git log --oneline --all --decorate"
   ]
  },
  {
   "cell_type": "markdown",
   "metadata": {},
   "source": [
    "*Important note: a branch is just a pointer to specific commit. While it is often intuitively related to the tree structure of your project, this is not always the case.*\n",
    "\n",
    "*If *`git checkout`* is followed by a branch name, it will move your HEAD to that branch.*"
   ]
  },
  {
   "cell_type": "code",
   "execution_count": 34,
   "metadata": {
    "collapsed": false
   },
   "outputs": [
    {
     "name": "stdout",
     "output_type": "stream",
     "text": [
      "Switched to branch 'feature0'\r\n"
     ]
    }
   ],
   "source": [
    "git checkout feature0"
   ]
  },
  {
   "cell_type": "code",
   "execution_count": 35,
   "metadata": {
    "collapsed": false
   },
   "outputs": [
    {
     "name": "stdout",
     "output_type": "stream",
     "text": [
      "* \u001b[32mfeature0\u001b[m\r\n",
      "  master\u001b[m\r\n"
     ]
    }
   ],
   "source": [
    "git branch"
   ]
  },
  {
   "cell_type": "markdown",
   "metadata": {},
   "source": [
    "*Now add the following function (your new feature) to my_code.py and commit your changes:*\n",
    "```\n",
    "def print_hello():\n",
    "    print 'hello'\n",
    "```"
   ]
  },
  {
   "cell_type": "code",
   "execution_count": 36,
   "metadata": {
    "collapsed": false
   },
   "outputs": [
    {
     "name": "stdout",
     "output_type": "stream",
     "text": [
      "[feature0 d4b6203] Add print_hello function.\r\n",
      " 1 file changed, 5 insertions(+), 1 deletion(-)\r\n"
     ]
    }
   ],
   "source": [
    "git add my_code.py\n",
    "git commit -m \"Add print_hello function.\""
   ]
  },
  {
   "cell_type": "markdown",
   "metadata": {},
   "source": [
    "*Now go back to your master branch.*"
   ]
  },
  {
   "cell_type": "code",
   "execution_count": 37,
   "metadata": {
    "collapsed": false
   },
   "outputs": [
    {
     "name": "stdout",
     "output_type": "stream",
     "text": [
      "Switched to branch 'master'\r\n"
     ]
    }
   ],
   "source": [
    "git checkout master"
   ]
  },
  {
   "cell_type": "code",
   "execution_count": 38,
   "metadata": {
    "collapsed": false
   },
   "outputs": [
    {
     "name": "stdout",
     "output_type": "stream",
     "text": [
      "  feature0\u001b[m\r\n",
      "* \u001b[32mmaster\u001b[m\r\n"
     ]
    }
   ],
   "source": [
    "git branch"
   ]
  },
  {
   "cell_type": "markdown",
   "metadata": {},
   "source": [
    "*Take a look at my_code.py. You can see that the changes you made in the *`feature0`* branch haven't affected the master branch.*"
   ]
  },
  {
   "cell_type": "markdown",
   "metadata": {},
   "source": [
    "*If you are satisfied with your new feature, you can incorporate it into the main project by merging the feature0 branch into the master branch:*"
   ]
  },
  {
   "cell_type": "code",
   "execution_count": 39,
   "metadata": {
    "collapsed": false
   },
   "outputs": [
    {
     "name": "stdout",
     "output_type": "stream",
     "text": [
      "Updating f0bc70e..d4b6203\r\n",
      "Fast-forward\r\n",
      " my_code.py | 6 \u001b[32m+++++\u001b[m\u001b[31m-\u001b[m\r\n",
      " 1 file changed, 5 insertions(+), 1 deletion(-)\r\n"
     ]
    }
   ],
   "source": [
    "git merge feature0"
   ]
  },
  {
   "cell_type": "markdown",
   "metadata": {},
   "source": [
    "*With *`git merge`*, the specified branch is merged into the branch you're on.*\n",
    "\n",
    "*Once you have merged *`feature0`* you can delete it, since it is no longer needed.*"
   ]
  },
  {
   "cell_type": "code",
   "execution_count": 40,
   "metadata": {
    "collapsed": false
   },
   "outputs": [
    {
     "name": "stdout",
     "output_type": "stream",
     "text": [
      "Deleted branch feature0 (was d4b6203).\r\n"
     ]
    }
   ],
   "source": [
    "git branch -d feature0"
   ]
  },
  {
   "cell_type": "markdown",
   "metadata": {},
   "source": [
    "### Handling merge conflicts\n",
    "*Sometimes two branches will have made conflicting modifications to the same file.*\n",
    "\n",
    "*The below is a shortcut for making and checking out a new branch. I.e., it is equivalent to:*\n",
    "```\n",
    "git branch feature1\n",
    "git checkout feature1\n",
    "```"
   ]
  },
  {
   "cell_type": "code",
   "execution_count": 41,
   "metadata": {
    "collapsed": false
   },
   "outputs": [
    {
     "name": "stdout",
     "output_type": "stream",
     "text": [
      "Switched to a new branch 'feature1'\r\n"
     ]
    }
   ],
   "source": [
    "git checkout -b feature1"
   ]
  },
  {
   "cell_type": "markdown",
   "metadata": {},
   "source": [
    "*Add the following function to my_code.py:*\n",
    "```\n",
    "def print_circle():\n",
    "    print 'circle'\n",
    "```"
   ]
  },
  {
   "cell_type": "code",
   "execution_count": 42,
   "metadata": {
    "collapsed": false
   },
   "outputs": [
    {
     "name": "stdout",
     "output_type": "stream",
     "text": [
      "[feature1 2c50c54] Add print_circle function.\r\n",
      " 1 file changed, 5 insertions(+), 1 deletion(-)\r\n"
     ]
    }
   ],
   "source": [
    "git add my_code.py\n",
    "git commit -m \"Add print_circle function.\""
   ]
  },
  {
   "cell_type": "markdown",
   "metadata": {},
   "source": [
    "*Now go back to your master branch*"
   ]
  },
  {
   "cell_type": "code",
   "execution_count": 43,
   "metadata": {
    "collapsed": false
   },
   "outputs": [
    {
     "name": "stdout",
     "output_type": "stream",
     "text": [
      "Switched to branch 'master'\r\n"
     ]
    }
   ],
   "source": [
    "git checkout master"
   ]
  },
  {
   "cell_type": "markdown",
   "metadata": {},
   "source": [
    "*And add the following function to my_code.py:*\n",
    "```\n",
    "def print_square():\n",
    "    print 'square'\n",
    "```"
   ]
  },
  {
   "cell_type": "code",
   "execution_count": 44,
   "metadata": {
    "collapsed": false
   },
   "outputs": [
    {
     "name": "stdout",
     "output_type": "stream",
     "text": [
      "[master 192e83f] Add print_square function.\r\n",
      " 1 file changed, 5 insertions(+), 1 deletion(-)\r\n"
     ]
    }
   ],
   "source": [
    "git add my_code.py\n",
    "git commit -m \"Add print_square function.\""
   ]
  },
  {
   "cell_type": "markdown",
   "metadata": {},
   "source": [
    "*If you now look at your project tree (using the --graph option), you can see that *`feature1`* has diverged from *`master`."
   ]
  },
  {
   "cell_type": "code",
   "execution_count": 45,
   "metadata": {
    "collapsed": false
   },
   "outputs": [
    {
     "name": "stdout",
     "output_type": "stream",
     "text": [
      "\u001b[?1h\u001b=* \u001b[33m192e83f (\u001b[1;36mHEAD\u001b[m\u001b[33m, \u001b[1;32mmaster\u001b[m\u001b[33m)\u001b[m Add print_square function.\u001b[m\r\n",
      "\u001b[31m|\u001b[m * \u001b[33m2c50c54 (\u001b[1;32mfeature1\u001b[m\u001b[33m)\u001b[m Add print_circle function.\u001b[m\r\n",
      "\u001b[31m|\u001b[m\u001b[31m/\u001b[m  \u001b[m\r\n",
      "* \u001b[33md4b6203\u001b[m Add print_hello function.\u001b[m\r\n",
      "* \u001b[33mf0bc70e\u001b[m Add print_why function.\u001b[m\r\n",
      "* \u001b[33m3f73229\u001b[m Add print_bye function.\u001b[m\r\n",
      "* \u001b[33m37d67c1\u001b[m Revert \"Add print_hi function.\"\u001b[m\r\n",
      "* \u001b[33m0afca13\u001b[m Add print_hi function.\u001b[m\r\n",
      "* \u001b[33m1c7f463\u001b[m Start my code.\u001b[m\r\n",
      "\r",
      "\u001b[K\u001b[?1l\u001b>"
     ]
    }
   ],
   "source": [
    "git log --oneline --all --decorate --graph"
   ]
  },
  {
   "cell_type": "markdown",
   "metadata": {},
   "source": [
    "*Now a merge attempt will fail since the same file has been modified differently in the two branches.*"
   ]
  },
  {
   "cell_type": "code",
   "execution_count": 46,
   "metadata": {
    "collapsed": false
   },
   "outputs": [
    {
     "name": "stdout",
     "output_type": "stream",
     "text": [
      "Auto-merging my_code.py\r\n",
      "CONFLICT (content): Merge conflict in my_code.py\r\n",
      "Automatic merge failed; fix conflicts and then commit the result.\r\n"
     ]
    }
   ],
   "source": [
    "git merge feature1"
   ]
  },
  {
   "cell_type": "markdown",
   "metadata": {},
   "source": [
    "*Your friend *`git status`* can tell you where the conflicts are.*"
   ]
  },
  {
   "cell_type": "code",
   "execution_count": 47,
   "metadata": {
    "collapsed": false
   },
   "outputs": [
    {
     "name": "stdout",
     "output_type": "stream",
     "text": [
      "# On branch master\r\n",
      "# You have unmerged paths.\r\n",
      "#   (fix conflicts and run \"git commit\")\r\n",
      "#\r\n",
      "# Unmerged paths:\r\n",
      "#   (use \"git add <file>...\" to mark resolution)\r\n",
      "#\r\n",
      "#\t\u001b[31mboth modified:      my_code.py\u001b[m\r\n",
      "#\r\n",
      "no changes added to commit (use \"git add\" and/or \"git commit -a\")\r\n"
     ]
    }
   ],
   "source": [
    "git status"
   ]
  },
  {
   "cell_type": "markdown",
   "metadata": {},
   "source": [
    "*Now go look at the conflict in my_code.py. It will have the following syntax:*\n",
    "```\n",
    "...\n",
    "\n",
    "<<<<<<< HEAD\n",
    "def print_square():\n",
    "    print 'square'\n",
    "=======\n",
    "def print_circle():\n",
    "    print 'circle'\n",
    ">>>>>>> feature1\n",
    "```\n",
    "*This indicates what changes were made on your current branch and what changes were made on *`feature1`. *It is up to you to figure whether you want one modification, both, or some combination of the two. Suppose that you decide to keep both functions, such that my_code.py looks like:*\n",
    "```\n",
    "...\n",
    "\n",
    "def print_square():\n",
    "    print 'square'\n",
    "\n",
    "\n",
    "def print_circle():\n",
    "    print 'circle'\n",
    "```"
   ]
  },
  {
   "cell_type": "markdown",
   "metadata": {},
   "source": [
    "*Now add your \"fix\" and commit it.*"
   ]
  },
  {
   "cell_type": "code",
   "execution_count": 48,
   "metadata": {
    "collapsed": false
   },
   "outputs": [
    {
     "name": "stdout",
     "output_type": "stream",
     "text": [
      "[master 1aff513] merge\r\n"
     ]
    }
   ],
   "source": [
    "git add my_code.py\n",
    "git commit -m \"merge\""
   ]
  },
  {
   "cell_type": "markdown",
   "metadata": {},
   "source": [
    "*Now if you look at your project tree you'll see that the two arms of the tree have come back together (note, however, that the *`feature1`* branch is not at the same commit as *`master`*).*"
   ]
  },
  {
   "cell_type": "code",
   "execution_count": 49,
   "metadata": {
    "collapsed": false
   },
   "outputs": [
    {
     "name": "stdout",
     "output_type": "stream",
     "text": [
      "\u001b[?1h\u001b=*   \u001b[33m1aff513 (\u001b[1;36mHEAD\u001b[m\u001b[33m, \u001b[1;32mmaster\u001b[m\u001b[33m)\u001b[m merge\u001b[m\r\n",
      "\u001b[31m|\u001b[m\u001b[32m\\\u001b[m  \u001b[m\r\n",
      "\u001b[31m|\u001b[m * \u001b[33m2c50c54 (\u001b[1;32mfeature1\u001b[m\u001b[33m)\u001b[m Add print_circle function.\u001b[m\r\n",
      "* \u001b[32m|\u001b[m \u001b[33m192e83f\u001b[m Add print_square function.\u001b[m\r\n",
      "\u001b[32m|\u001b[m\u001b[32m/\u001b[m  \u001b[m\r\n",
      "* \u001b[33md4b6203\u001b[m Add print_hello function.\u001b[m\r\n",
      "* \u001b[33mf0bc70e\u001b[m Add print_why function.\u001b[m\r\n",
      "* \u001b[33m3f73229\u001b[m Add print_bye function.\u001b[m\r\n",
      "* \u001b[33m37d67c1\u001b[m Revert \"Add print_hi function.\"\u001b[m\r\n",
      "* \u001b[33m0afca13\u001b[m Add print_hi function.\u001b[m\r\n",
      "* \u001b[33m1c7f463\u001b[m Start my code.\u001b[m\r\n",
      "\r",
      "\u001b[K\u001b[?1l\u001b>"
     ]
    }
   ],
   "source": [
    "git log --oneline --all --decorate --graph"
   ]
  },
  {
   "cell_type": "code",
   "execution_count": 50,
   "metadata": {
    "collapsed": false
   },
   "outputs": [
    {
     "name": "stdout",
     "output_type": "stream",
     "text": [
      "# On branch master\r\n",
      "nothing to commit (working directory clean)\r\n"
     ]
    }
   ],
   "source": [
    "git status"
   ]
  },
  {
   "cell_type": "markdown",
   "metadata": {},
   "source": [
    "*Now you can delete *`feature1`* since you've incorporated all of the changes you want into *`master`."
   ]
  },
  {
   "cell_type": "code",
   "execution_count": 51,
   "metadata": {
    "collapsed": false
   },
   "outputs": [
    {
     "name": "stdout",
     "output_type": "stream",
     "text": [
      "Deleted branch feature1 (was 2c50c54).\r\n"
     ]
    }
   ],
   "source": [
    "git branch -d feature1"
   ]
  },
  {
   "cell_type": "markdown",
   "metadata": {},
   "source": [
    "*Note, however, even though the branch *`feature1`* has been deleted, the tree structure of the project before the merge does not change. We have only actually removed a pointer.*"
   ]
  },
  {
   "cell_type": "code",
   "execution_count": 52,
   "metadata": {
    "collapsed": false
   },
   "outputs": [
    {
     "name": "stdout",
     "output_type": "stream",
     "text": [
      "\u001b[?1h\u001b=*   \u001b[33m1aff513 (\u001b[1;36mHEAD\u001b[m\u001b[33m, \u001b[1;32mmaster\u001b[m\u001b[33m)\u001b[m merge\u001b[m\r\n",
      "\u001b[31m|\u001b[m\u001b[32m\\\u001b[m  \u001b[m\r\n",
      "\u001b[31m|\u001b[m * \u001b[33m2c50c54\u001b[m Add print_circle function.\u001b[m\r\n",
      "* \u001b[32m|\u001b[m \u001b[33m192e83f\u001b[m Add print_square function.\u001b[m\r\n",
      "\u001b[32m|\u001b[m\u001b[32m/\u001b[m  \u001b[m\r\n",
      "* \u001b[33md4b6203\u001b[m Add print_hello function.\u001b[m\r\n",
      "* \u001b[33mf0bc70e\u001b[m Add print_why function.\u001b[m\r\n",
      "* \u001b[33m3f73229\u001b[m Add print_bye function.\u001b[m\r\n",
      "* \u001b[33m37d67c1\u001b[m Revert \"Add print_hi function.\"\u001b[m\r\n",
      "* \u001b[33m0afca13\u001b[m Add print_hi function.\u001b[m\r\n",
      "* \u001b[33m1c7f463\u001b[m Start my code.\u001b[m\r\n",
      "\r",
      "\u001b[K\u001b[?1l\u001b>"
     ]
    }
   ],
   "source": [
    "git log --oneline --all --decorate --graph"
   ]
  },
  {
   "cell_type": "markdown",
   "metadata": {},
   "source": [
    "### Examples of merge conflicts:\n",
    "* *A file was modified in two different branches in different ways.*\n",
    "* *A file was modified in one branch and deleted in another.*\n",
    "* *A file was renamed in one branch and deleted in another.*\n",
    "* *And more!*\n",
    "\n",
    "### Examples of nonconflicts:\n",
    "* *A file was modified in only one branch.*\n",
    "* *A file was deleted in only one branch.*\n",
    "* *And more!*"
   ]
  },
  {
   "cell_type": "markdown",
   "metadata": {},
   "source": [
    "# Remote branches and GitHub"
   ]
  },
  {
   "cell_type": "markdown",
   "metadata": {},
   "source": [
    "*Make a new GitHub repo (http://github.com)*\n",
    "\n",
    "*Once your GitHub repo has been made public, anyone can make a copy of it on their own machine using:*\n",
    "\n",
    "```\n",
    "git clone https://github.com/your_username/my_project\n",
    "```\n",
    "\n",
    "*Your goal, however, is to connect your local repo (on your computer) to your remote repo (on the internet). To do this, we first need to see what remote directories your git repo knows about: *"
   ]
  },
  {
   "cell_type": "code",
   "execution_count": 54,
   "metadata": {
    "collapsed": false
   },
   "outputs": [
    {
     "name": "stdout",
     "output_type": "stream",
     "text": [
      "origin\thttps://github.com/rkp8000/my_project (fetch)\r\n",
      "origin\thttps://github.com/rkp8000/my_project (push)\r\n"
     ]
    }
   ],
   "source": [
    "git remote -v"
   ]
  },
  {
   "cell_type": "markdown",
   "metadata": {},
   "source": [
    "*The below command creates a link named *`origin`* that points at our remote repository. Technically, you can name your remote links anything you want, but *`origin`* is a convention for a remote repo that you own (i.e., in your Github repo)."
   ]
  },
  {
   "cell_type": "code",
   "execution_count": 53,
   "metadata": {
    "collapsed": false
   },
   "outputs": [
    {
     "name": "stdout",
     "output_type": "stream",
     "text": []
    }
   ],
   "source": [
    "git remote add origin https://github.com/rkp8000/my_project.git"
   ]
  },
  {
   "cell_type": "markdown",
   "metadata": {},
   "source": [
    "*You can now *`push`* any branches to your remote repo on Github. This will copy any code differences from your local machine to the remote version on the internet. The command *`git push <remote destination> <local branch>`* allows you to try to merge a local branch with a branch on your remote repo.*"
   ]
  },
  {
   "cell_type": "code",
   "execution_count": null,
   "metadata": {
    "collapsed": true
   },
   "outputs": [],
   "source": [
    "git push origin master"
   ]
  },
  {
   "cell_type": "markdown",
   "metadata": {},
   "source": [
    "*Now if we go back to our GitHub site we'll see our master branch.*"
   ]
  },
  {
   "cell_type": "markdown",
   "metadata": {},
   "source": [
    "# Collaborating\n",
    "*There are two main repository models that are frequently used:*\n",
    "\n",
    "1. [Shared repository model](https://help.github.com/articles/using-pull-requests/)\n",
    "\n",
    " *Here, everyone has write access to the same repository. In github, this is called \"collaborator\" access -- an unfortunate word choice for us scientists. This is more common for small, rapidly-developed code bases. [more details here]* <br><br>\n",
    "2. [Fork & pull repository model](https://help.github.com/articles/using-pull-requests/)\n",
    "\n",
    "  *Here, a lucky few have write access. Anyone can propose a change to the code (through a \"pull request\"), but one of the collaborators must approve it. This is common for large projects involving more than a handful of coders.*"
   ]
  },
  {
   "cell_type": "markdown",
   "metadata": {},
   "source": [
    "### Syncing your repo\n",
    "*If there were changes to your remote repo (e.g., by other coders), you'll probably want to update your local code base to reflect those additions before making your own changes. To do this we use the `fetch` command.*\n",
    "\n",
    "*Calling `fetch` tells git to get all the branches of a remote repository (including any changes). Call it like this:*"
   ]
  },
  {
   "cell_type": "code",
   "execution_count": 1,
   "metadata": {
    "collapsed": false
   },
   "outputs": [
    {
     "ename": "SyntaxError",
     "evalue": "invalid syntax (<ipython-input-1-0bbf05c3c361>, line 1)",
     "output_type": "error",
     "traceback": [
      "\u001b[0;36m  File \u001b[0;32m\"<ipython-input-1-0bbf05c3c361>\"\u001b[0;36m, line \u001b[0;32m1\u001b[0m\n\u001b[0;31m    git fetch origin\u001b[0m\n\u001b[0m            ^\u001b[0m\n\u001b[0;31mSyntaxError\u001b[0m\u001b[0;31m:\u001b[0m invalid syntax\n"
     ]
    }
   ],
   "source": [
    "git fetch origin"
   ]
  },
  {
   "cell_type": "markdown",
   "metadata": {},
   "source": [
    "*You can then attempt to merge the remote-tracking branch *`origin/master`* into your own master branch. Just like before, if there were merge conflicts, you'll have to handle them and then commit the modified files. Merge the branches by calling:*"
   ]
  },
  {
   "cell_type": "code",
   "execution_count": null,
   "metadata": {
    "collapsed": true
   },
   "outputs": [],
   "source": [
    "git merge origin/master"
   ]
  },
  {
   "cell_type": "markdown",
   "metadata": {},
   "source": [
    "*Now you are ready to make your own changes to the code (woohoo! finally!) and then push them back to a remote repository. They way those changes will be integrated depends on your repository's model...*"
   ]
  },
  {
   "cell_type": "markdown",
   "metadata": {},
   "source": [
    "### Shared repository model\n",
    "\n",
    "*If everyone has write access, there are only two repositories you have to worry about: your local repo and the *`origin`* repo. __Once you have committed your changes__, pushing your local changes to the remote repository is as easy as:*"
   ]
  },
  {
   "cell_type": "code",
   "execution_count": null,
   "metadata": {
    "collapsed": true
   },
   "outputs": [],
   "source": [
    "git push origin master"
   ]
  },
  {
   "cell_type": "markdown",
   "metadata": {},
   "source": [
    "### Forked repository model"
   ]
  },
  {
   "cell_type": "markdown",
   "metadata": {},
   "source": [
    "If you are using forked repos, there is one extra level of complexity. Now we'll have 3 repos to worry about:\n",
    " 1. the big collaborative repo\n",
    " 2. your remote copy (or \"fork\") of 1. that lives on the internet\n",
    " 3. your local repo that lives on your computer"
   ]
  },
  {
   "cell_type": "code",
   "execution_count": null,
   "metadata": {
    "collapsed": true
   },
   "outputs": [],
   "source": []
  }
 ],
 "metadata": {
  "kernelspec": {
   "display_name": "Python 2",
   "language": "python",
   "name": "python2"
  },
  "language_info": {
   "codemirror_mode": {
    "name": "ipython",
    "version": 2
   },
   "file_extension": ".py",
   "mimetype": "text/x-python",
   "name": "python",
   "nbconvert_exporter": "python",
   "pygments_lexer": "ipython2",
   "version": "2.7.10"
  }
 },
 "nbformat": 4,
 "nbformat_minor": 0
}

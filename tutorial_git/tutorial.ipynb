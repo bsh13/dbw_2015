{
 "cells": [
  {
   "cell_type": "markdown",
   "metadata": {},
   "source": [
    "# The basics"
   ]
  },
  {
   "cell_type": "code",
   "execution_count": 2,
   "metadata": {
    "collapsed": false
   },
   "outputs": [
    {
     "name": "stdout",
     "output_type": "stream",
     "text": [
      "Initialized empty Git repository in /Users/rkp/Desktop/git_tutorial/my_project/.git/\r\n"
     ]
    }
   ],
   "source": [
    "git init my_project"
   ]
  },
  {
   "cell_type": "code",
   "execution_count": 3,
   "metadata": {
    "collapsed": false
   },
   "outputs": [
    {
     "name": "stdout",
     "output_type": "stream",
     "text": []
    }
   ],
   "source": [
    "cd my_project"
   ]
  },
  {
   "cell_type": "code",
   "execution_count": 5,
   "metadata": {
    "collapsed": false
   },
   "outputs": [
    {
     "name": "stdout",
     "output_type": "stream",
     "text": [
      "\u001b[1m\u001b[34m.\u001b[39;49m\u001b[0m    \u001b[1m\u001b[34m..\u001b[39;49m\u001b[0m   \u001b[1m\u001b[34m.git\u001b[39;49m\u001b[0m\r\n"
     ]
    }
   ],
   "source": [
    "ls -a"
   ]
  },
  {
   "cell_type": "code",
   "execution_count": 6,
   "metadata": {
    "collapsed": false,
    "scrolled": true
   },
   "outputs": [
    {
     "name": "stdout",
     "output_type": "stream",
     "text": [
      "# On branch master\r\n",
      "#\r\n",
      "# Initial commit\r\n",
      "#\r\n",
      "nothing to commit (create/copy files and use \"git add\" to track)\r\n"
     ]
    }
   ],
   "source": [
    "git status"
   ]
  },
  {
   "cell_type": "markdown",
   "metadata": {},
   "source": [
    "### *Let's make a new file!*\n",
    "*Make a file called \"my_code.py\" inside the \"my_project\" directory and add the following lines:*\n",
    "```\n",
    "from __future__ import division\n",
    "import numpy as np\n",
    "import matplotlib.pyplot as plt\n",
    "```"
   ]
  },
  {
   "cell_type": "code",
   "execution_count": 7,
   "metadata": {
    "collapsed": false
   },
   "outputs": [
    {
     "name": "stdout",
     "output_type": "stream",
     "text": [
      "# On branch master\r\n",
      "#\r\n",
      "# Initial commit\r\n",
      "#\r\n",
      "# Untracked files:\r\n",
      "#   (use \"git add <file>...\" to include in what will be committed)\r\n",
      "#\r\n",
      "#\t\u001b[31mmy_code.py\u001b[m\r\n",
      "nothing added to commit but untracked files present (use \"git add\" to track)\r\n"
     ]
    }
   ],
   "source": [
    "git status"
   ]
  },
  {
   "cell_type": "code",
   "execution_count": 8,
   "metadata": {
    "collapsed": false
   },
   "outputs": [
    {
     "name": "stdout",
     "output_type": "stream",
     "text": []
    }
   ],
   "source": [
    "git add my_code.py"
   ]
  },
  {
   "cell_type": "code",
   "execution_count": 9,
   "metadata": {
    "collapsed": false
   },
   "outputs": [
    {
     "name": "stdout",
     "output_type": "stream",
     "text": [
      "# On branch master\r\n",
      "#\r\n",
      "# Initial commit\r\n",
      "#\r\n",
      "# Changes to be committed:\r\n",
      "#   (use \"git rm --cached <file>...\" to unstage)\r\n",
      "#\r\n",
      "#\t\u001b[32mnew file:   my_code.py\u001b[m\r\n",
      "#\r\n"
     ]
    }
   ],
   "source": [
    "git status"
   ]
  },
  {
   "cell_type": "markdown",
   "metadata": {},
   "source": [
    "*Note: files can be removed from the staging area using * `git reset`."
   ]
  },
  {
   "cell_type": "code",
   "execution_count": 10,
   "metadata": {
    "collapsed": false
   },
   "outputs": [
    {
     "name": "stdout",
     "output_type": "stream",
     "text": [
      "[master (root-commit) 7142688] Start my code.\r\n",
      " 1 file changed, 3 insertions(+)\r\n",
      " create mode 100644 my_code.py\r\n"
     ]
    }
   ],
   "source": [
    "git commit -m \"Start my code.\""
   ]
  },
  {
   "cell_type": "code",
   "execution_count": 11,
   "metadata": {
    "collapsed": false
   },
   "outputs": [
    {
     "name": "stdout",
     "output_type": "stream",
     "text": [
      "# On branch master\r\n",
      "nothing to commit (working directory clean)\r\n"
     ]
    }
   ],
   "source": [
    "git status"
   ]
  },
  {
   "cell_type": "markdown",
   "metadata": {},
   "source": [
    "### *Let's modify the file*\n",
    "*Add the following lines to my_code.py:*\n",
    "```\n",
    "def print_hi():\n",
    "    print 'hi'\n",
    "```"
   ]
  },
  {
   "cell_type": "code",
   "execution_count": 70,
   "metadata": {
    "collapsed": false
   },
   "outputs": [
    {
     "name": "stdout",
     "output_type": "stream",
     "text": [
      "# On branch master\r\n",
      "nothing to commit (working directory clean)\r\n"
     ]
    }
   ],
   "source": [
    "git add my_code.py\n",
    "git commit -m \"Add print_hi function.\""
   ]
  },
  {
   "cell_type": "code",
   "execution_count": 13,
   "metadata": {
    "collapsed": false
   },
   "outputs": [
    {
     "name": "stdout",
     "output_type": "stream",
     "text": [
      "\u001b[?1h\u001b=\u001b[33maa2d613 (\u001b[1;36mHEAD\u001b[m\u001b[33m, \u001b[1;32mmaster\u001b[m\u001b[33m)\u001b[m Make x.\u001b[m\r\n",
      "\u001b[33m7142688\u001b[m Start my code.\u001b[m\r\n",
      "\r",
      "\u001b[K\u001b[?1l\u001b>"
     ]
    }
   ],
   "source": [
    "git log --oneline --decorate --all"
   ]
  },
  {
   "cell_type": "markdown",
   "metadata": {
    "collapsed": true
   },
   "source": [
    "### *Looking at past commits*\n",
    "*You can view a previous commit using:* `git checkout <commit>` *note that commit hashes are essentially random*."
   ]
  },
  {
   "cell_type": "code",
   "execution_count": 15,
   "metadata": {
    "collapsed": false
   },
   "outputs": [
    {
     "name": "stdout",
     "output_type": "stream",
     "text": [
      "Note: checking out '7142688'.\r\n",
      "\r\n",
      "You are in 'detached HEAD' state. You can look around, make experimental\r\n",
      "changes and commit them, and you can discard any commits you make in this\r\n",
      "state without impacting any branches by performing another checkout.\r\n",
      "\r\n",
      "If you want to create a new branch to retain commits you create, you may\r\n",
      "do so (now or later) by using -b with the checkout command again. Example:\r\n",
      "\r\n",
      "  git checkout -b new_branch_name\r\n",
      "\r\n",
      "HEAD is now at 7142688... Start my code.\r\n"
     ]
    }
   ],
   "source": [
    "git checkout 7142688"
   ]
  },
  {
   "cell_type": "markdown",
   "metadata": {},
   "source": [
    "Now go take a look at `my_code.py`. You won't see our recent changes there. Why not?"
   ]
  },
  {
   "cell_type": "code",
   "execution_count": 16,
   "metadata": {
    "collapsed": false
   },
   "outputs": [
    {
     "name": "stdout",
     "output_type": "stream",
     "text": [
      "\u001b[?1h\u001b=\u001b[33maa2d613 (\u001b[1;32mmaster\u001b[m\u001b[33m)\u001b[m Make x.\u001b[m\r\n",
      "\u001b[33m7142688 (\u001b[1;36mHEAD\u001b[m\u001b[33m)\u001b[m Start my code.\u001b[m\r\n",
      "\r",
      "\u001b[K\u001b[?1l\u001b>"
     ]
    }
   ],
   "source": [
    "git log --oneline --decorate --all"
   ]
  },
  {
   "cell_type": "markdown",
   "metadata": {},
   "source": [
    "*To return the HEAD to the most recent commit, use:*  `git checkout master`"
   ]
  },
  {
   "cell_type": "code",
   "execution_count": 17,
   "metadata": {
    "collapsed": false
   },
   "outputs": [
    {
     "name": "stdout",
     "output_type": "stream",
     "text": [
      "Previous HEAD position was 7142688... Start my code.\r\n",
      "Switched to branch 'master'\r\n"
     ]
    }
   ],
   "source": [
    "git checkout master"
   ]
  },
  {
   "cell_type": "markdown",
   "metadata": {},
   "source": [
    "*If you want to make sure this worked correctly and took you back to your most recent commit, look at *`my_code.py`."
   ]
  },
  {
   "cell_type": "code",
   "execution_count": 18,
   "metadata": {
    "collapsed": false
   },
   "outputs": [
    {
     "name": "stdout",
     "output_type": "stream",
     "text": [
      "\u001b[?1h\u001b=\u001b[33maa2d613 (\u001b[1;36mHEAD\u001b[m\u001b[33m, \u001b[1;32mmaster\u001b[m\u001b[33m)\u001b[m Make x.\u001b[m\r\n",
      "\u001b[33m7142688\u001b[m Start my code.\u001b[m\r\n",
      "\r",
      "\u001b[K\u001b[?1l\u001b>"
     ]
    }
   ],
   "source": [
    "git log --oneline --decorate --all"
   ]
  },
  {
   "cell_type": "markdown",
   "metadata": {},
   "source": [
    "*To undo a commit use:* `git revert HEAD` *(or* `git revert HEAD~3..HEAD` *to undo the last three commits, for example).*\n",
    "\n",
    "*Note that below we use the *`--no-edit`* tag, since Jupyter won't open a text editor.*"
   ]
  },
  {
   "cell_type": "code",
   "execution_count": 19,
   "metadata": {
    "collapsed": false
   },
   "outputs": [
    {
     "name": "stdout",
     "output_type": "stream",
     "text": [
      "[master f9fa647] Revert \"Make x.\"\r\n",
      " 1 file changed, 4 deletions(-)\r\n"
     ]
    }
   ],
   "source": [
    "git revert HEAD --no-edit"
   ]
  },
  {
   "cell_type": "code",
   "execution_count": 20,
   "metadata": {
    "collapsed": false
   },
   "outputs": [
    {
     "name": "stdout",
     "output_type": "stream",
     "text": [
      "\u001b[?1h\u001b=\u001b[33mf9fa647 (\u001b[1;36mHEAD\u001b[m\u001b[33m, \u001b[1;32mmaster\u001b[m\u001b[33m)\u001b[m Revert \"Make x.\"\u001b[m\r\n",
      "\u001b[33maa2d613\u001b[m Make x.\u001b[m\r\n",
      "\u001b[33m7142688\u001b[m Start my code.\u001b[m\r\n",
      "\r",
      "\u001b[K\u001b[?1l\u001b>"
     ]
    }
   ],
   "source": [
    "git log --oneline --decorate --all"
   ]
  },
  {
   "cell_type": "markdown",
   "metadata": {},
   "source": [
    "*Now take a look at * `my_code.py`. *You should see that our changes have been undone.*"
   ]
  },
  {
   "cell_type": "markdown",
   "metadata": {},
   "source": [
    "### *Let's add the change that we actually wanted*\n",
    "```\n",
    "def print_bye():\n",
    "    print 'bye'\n",
    "```"
   ]
  },
  {
   "cell_type": "code",
   "execution_count": 22,
   "metadata": {
    "collapsed": false
   },
   "outputs": [
    {
     "name": "stdout",
     "output_type": "stream",
     "text": [
      "[master 8a02267] Make y.\r\n",
      " 1 file changed, 4 insertions(+)\r\n"
     ]
    }
   ],
   "source": [
    "git add my_code.py\n",
    "git commit -m \"Add print_bye function.\""
   ]
  },
  {
   "cell_type": "code",
   "execution_count": 23,
   "metadata": {
    "collapsed": false
   },
   "outputs": [
    {
     "name": "stdout",
     "output_type": "stream",
     "text": [
      "\u001b[?1h\u001b=\u001b[33m8a02267 (\u001b[1;36mHEAD\u001b[m\u001b[33m, \u001b[1;32mmaster\u001b[m\u001b[33m)\u001b[m Make y.\u001b[m\r\n",
      "\u001b[33mf9fa647\u001b[m Revert \"Make x.\"\u001b[m\r\n",
      "\u001b[33maa2d613\u001b[m Make x.\u001b[m\r\n",
      "\u001b[33m7142688\u001b[m Start my code.\u001b[m\r\n",
      "\r",
      "\u001b[K\u001b[?1l\u001b>"
     ]
    }
   ],
   "source": [
    "git log --oneline --decorate --all"
   ]
  },
  {
   "cell_type": "markdown",
   "metadata": {},
   "source": [
    "### *Stashing*\n",
    "*Git will not let you checkout a previous a commit if you have modified files in your working directory since your last commit.*\n",
    "*To save these changes for later but without committing them, you can use * `git stash`.\n",
    "*For example, say that we have made another modification to our my_code.py by appending the line:*\n",
    "```\n",
    "def print_why():\n",
    "    # I'll fill in this later\n",
    "```\n",
    "*Now try to checkout one of your earlier commits and note that git won't let you do it.*"
   ]
  },
  {
   "cell_type": "code",
   "execution_count": 24,
   "metadata": {
    "collapsed": false
   },
   "outputs": [
    {
     "name": "stdout",
     "output_type": "stream",
     "text": [
      "error: Your local changes to the following files would be overwritten by checkout:\r\n",
      "\tmy_code.py\r\n",
      "Please, commit your changes or stash them before you can switch branches.\r\n",
      "Aborting\r\n"
     ]
    }
   ],
   "source": [
    "git checkout aa2d613"
   ]
  },
  {
   "cell_type": "code",
   "execution_count": 25,
   "metadata": {
    "collapsed": false
   },
   "outputs": [
    {
     "name": "stdout",
     "output_type": "stream",
     "text": [
      "Saved working directory and index state WIP on master: 8a02267 Make y.\r\n",
      "HEAD is now at 8a02267 Make y.\r\n"
     ]
    }
   ],
   "source": [
    "git stash"
   ]
  },
  {
   "cell_type": "code",
   "execution_count": 29,
   "metadata": {
    "collapsed": false
   },
   "outputs": [
    {
     "name": "stdout",
     "output_type": "stream",
     "text": [
      "\u001b[?1h\u001b=stash@{0}: WIP on master: 8a02267 Make y.\u001b[m\r\n",
      "stash@{1}: WIP on master: 8a02267 Make y.\u001b[m\r\n",
      "\r",
      "\u001b[K\u001b[?1l\u001b>"
     ]
    }
   ],
   "source": [
    "git stash list"
   ]
  },
  {
   "cell_type": "code",
   "execution_count": 30,
   "metadata": {
    "collapsed": false
   },
   "outputs": [
    {
     "name": "stdout",
     "output_type": "stream",
     "text": [
      "Note: checking out 'aa2d613'.\r\n",
      "\r\n",
      "You are in 'detached HEAD' state. You can look around, make experimental\r\n",
      "changes and commit them, and you can discard any commits you make in this\r\n",
      "state without impacting any branches by performing another checkout.\r\n",
      "\r\n",
      "If you want to create a new branch to retain commits you create, you may\r\n",
      "do so (now or later) by using -b with the checkout command again. Example:\r\n",
      "\r\n",
      "  git checkout -b new_branch_name\r\n",
      "\r\n",
      "HEAD is now at aa2d613... Make x.\r\n"
     ]
    }
   ],
   "source": [
    "git checkout aa2d613"
   ]
  },
  {
   "cell_type": "code",
   "execution_count": 32,
   "metadata": {
    "collapsed": false
   },
   "outputs": [
    {
     "name": "stdout",
     "output_type": "stream",
     "text": [
      "Previous HEAD position was aa2d613... Make x.\r\n",
      "Switched to branch 'master'\r\n"
     ]
    }
   ],
   "source": [
    "git checkout master"
   ]
  },
  {
   "cell_type": "code",
   "execution_count": 33,
   "metadata": {
    "collapsed": false
   },
   "outputs": [
    {
     "name": "stdout",
     "output_type": "stream",
     "text": [
      "# On branch master\r\n",
      "# Changes not staged for commit:\r\n",
      "#   (use \"git add <file>...\" to update what will be committed)\r\n",
      "#   (use \"git checkout -- <file>...\" to discard changes in working directory)\r\n",
      "#\r\n",
      "#\t\u001b[31mmodified:   my_code.py\u001b[m\r\n",
      "#\r\n",
      "no changes added to commit (use \"git add\" and/or \"git commit -a\")\r\n"
     ]
    }
   ],
   "source": [
    "git stash pop stash@{0}"
   ]
  },
  {
   "cell_type": "markdown",
   "metadata": {},
   "source": [
    "*Let's finish up our edits to my_code.py and commit before moving on to the next section.*\n",
    "```\n",
    "def print_why():\n",
    "    print 'why'\n",
    "```"
   ]
  },
  {
   "cell_type": "code",
   "execution_count": null,
   "metadata": {
    "collapsed": true
   },
   "outputs": [],
   "source": [
    "git add my_code.py\n",
    "git commit -m \"Add print_why function.\""
   ]
  },
  {
   "cell_type": "markdown",
   "metadata": {},
   "source": [
    "# Branches"
   ]
  },
  {
   "cell_type": "markdown",
   "metadata": {},
   "source": [
    "*Branches allow you to test out features, bug fixes, etc., before integrating them into your main project.*\n",
    "\n",
    "*For example, say we want to add a new function to my_code.py.*\n",
    "\n",
    "*To do this we'll create a branch named 'feature' that we can work on without messing up our main project.*"
   ]
  },
  {
   "cell_type": "code",
   "execution_count": 35,
   "metadata": {
    "collapsed": false
   },
   "outputs": [
    {
     "name": "stdout",
     "output_type": "stream",
     "text": []
    }
   ],
   "source": [
    "git branch feature0"
   ]
  },
  {
   "cell_type": "code",
   "execution_count": 36,
   "metadata": {
    "collapsed": false
   },
   "outputs": [
    {
     "name": "stdout",
     "output_type": "stream",
     "text": [
      "  feature0\u001b[m\r\n",
      "* \u001b[32mmaster\u001b[m\r\n"
     ]
    }
   ],
   "source": [
    "git branch"
   ]
  },
  {
   "cell_type": "code",
   "execution_count": 39,
   "metadata": {
    "collapsed": false
   },
   "outputs": [
    {
     "name": "stdout",
     "output_type": "stream",
     "text": [
      "\u001b[?1h\u001b=\u001b[33me30fa10 (\u001b[1;36mHEAD\u001b[m\u001b[33m, \u001b[1;32mmaster\u001b[m\u001b[33m, \u001b[1;32mfeature0\u001b[m\u001b[33m)\u001b[m Make z array.\u001b[m\r\n",
      "\u001b[33m1f19f71 (\u001b[1;35mrefs/stash\u001b[m\u001b[33m)\u001b[m WIP on master: 8a02267 Make y.\u001b[m\r\n",
      "\u001b[33mfde8e9a\u001b[m index on master: 8a02267 Make y.\u001b[m\r\n",
      "\u001b[33m8a02267\u001b[m Make y.\u001b[m\r\n",
      "\u001b[33mf9fa647\u001b[m Revert \"Make x.\"\u001b[m\r\n",
      "\u001b[33maa2d613\u001b[m Make x.\u001b[m\r\n",
      "\u001b[33m7142688\u001b[m Start my code.\u001b[m\r\n",
      "\r",
      "\u001b[K\u001b[?1l\u001b>"
     ]
    }
   ],
   "source": [
    "git log --oneline --all --decorate"
   ]
  },
  {
   "cell_type": "markdown",
   "metadata": {},
   "source": [
    "*Note: a branch is just a pointer to specific commit. While it is often intuitively related to the tree structure of your project, this is not always the case.*"
   ]
  },
  {
   "cell_type": "code",
   "execution_count": 40,
   "metadata": {
    "collapsed": false
   },
   "outputs": [
    {
     "name": "stdout",
     "output_type": "stream",
     "text": [
      "Switched to branch 'feature0'\r\n"
     ]
    }
   ],
   "source": [
    "git checkout feature0"
   ]
  },
  {
   "cell_type": "code",
   "execution_count": 41,
   "metadata": {
    "collapsed": false
   },
   "outputs": [
    {
     "name": "stdout",
     "output_type": "stream",
     "text": [
      "* \u001b[32mfeature0\u001b[m\r\n",
      "  master\u001b[m\r\n"
     ]
    }
   ],
   "source": [
    "git branch"
   ]
  },
  {
   "cell_type": "markdown",
   "metadata": {},
   "source": [
    "*Add the following function to my_code.py and commit your changes:*\n",
    "```\n",
    "def cube_root(a):\n",
    "    return a ** (1/3)\n",
    "```"
   ]
  },
  {
   "cell_type": "code",
   "execution_count": 43,
   "metadata": {
    "collapsed": false
   },
   "outputs": [
    {
     "name": "stdout",
     "output_type": "stream",
     "text": [
      "[feature0 2959d02] Add cube root function.\r\n",
      " 1 file changed, 3 insertions(+)\r\n"
     ]
    }
   ],
   "source": [
    "git add my_code.py\n",
    "git commit -m \"Add cube root function.\""
   ]
  },
  {
   "cell_type": "code",
   "execution_count": 45,
   "metadata": {
    "collapsed": false
   },
   "outputs": [
    {
     "name": "stdout",
     "output_type": "stream",
     "text": [
      "Switched to branch 'master'\r\n"
     ]
    }
   ],
   "source": [
    "git checkout master"
   ]
  },
  {
   "cell_type": "code",
   "execution_count": 46,
   "metadata": {
    "collapsed": false
   },
   "outputs": [
    {
     "name": "stdout",
     "output_type": "stream",
     "text": [
      "  feature0\u001b[m\r\n",
      "* \u001b[32mmaster\u001b[m\r\n"
     ]
    }
   ],
   "source": [
    "git branch"
   ]
  },
  {
   "cell_type": "markdown",
   "metadata": {},
   "source": [
    "*Now take a look at my_code.py. You can see that our changes haven't affected the master branch.*"
   ]
  },
  {
   "cell_type": "markdown",
   "metadata": {},
   "source": [
    "*If we are satisfied with your new feature, we can incorporate it into the main project by merging the feature0 branch into the master branch.*"
   ]
  },
  {
   "cell_type": "code",
   "execution_count": 47,
   "metadata": {
    "collapsed": false
   },
   "outputs": [
    {
     "name": "stdout",
     "output_type": "stream",
     "text": [
      "Updating e30fa10..2959d02\r\n",
      "Fast-forward\r\n",
      " my_code.py | 3 \u001b[32m+++\u001b[m\r\n",
      " 1 file changed, 3 insertions(+)\r\n"
     ]
    }
   ],
   "source": [
    "git merge feature0"
   ]
  },
  {
   "cell_type": "code",
   "execution_count": 48,
   "metadata": {
    "collapsed": false
   },
   "outputs": [
    {
     "name": "stdout",
     "output_type": "stream",
     "text": [
      "Deleted branch feature0 (was 2959d02).\r\n"
     ]
    }
   ],
   "source": [
    "git branch -d feature0"
   ]
  },
  {
   "cell_type": "markdown",
   "metadata": {},
   "source": [
    "### Handling merge conflicts\n",
    "*Sometimes two branches will have made conflicting modifications to the same file.*"
   ]
  },
  {
   "cell_type": "code",
   "execution_count": 49,
   "metadata": {
    "collapsed": false
   },
   "outputs": [
    {
     "name": "stdout",
     "output_type": "stream",
     "text": []
    }
   ],
   "source": [
    "git checkout -b feature1"
   ]
  },
  {
   "cell_type": "markdown",
   "metadata": {},
   "source": [
    "*Let's add the following function to my_code.py:*\n",
    "```\n",
    "def print_circle():\n",
    "    print 'circle'\n",
    "```"
   ]
  },
  {
   "cell_type": "code",
   "execution_count": 51,
   "metadata": {
    "collapsed": false
   },
   "outputs": [
    {
     "name": "stdout",
     "output_type": "stream",
     "text": [
      "[feature1 ab1c8c1] add fancy func\r\n",
      " 1 file changed, 4 insertions(+), 1 deletion(-)\r\n"
     ]
    }
   ],
   "source": [
    "git add my_code.py\n",
    "git commit -m \"add fancy func\""
   ]
  },
  {
   "cell_type": "markdown",
   "metadata": {},
   "source": [
    "*Now we go back to our master branch and add the following function to my_code.py:*\n",
    "```\n",
    "def print_square():\n",
    "    print 'square'\n",
    "```"
   ]
  },
  {
   "cell_type": "code",
   "execution_count": 52,
   "metadata": {
    "collapsed": false
   },
   "outputs": [
    {
     "name": "stdout",
     "output_type": "stream",
     "text": [
      "Switched to branch 'master'\r\n"
     ]
    }
   ],
   "source": [
    "git checkout master"
   ]
  },
  {
   "cell_type": "code",
   "execution_count": 53,
   "metadata": {
    "collapsed": false
   },
   "outputs": [
    {
     "name": "stdout",
     "output_type": "stream",
     "text": [
      "[master 7dd6c19] add different func\r\n",
      " 1 file changed, 4 insertions(+), 1 deletion(-)\r\n"
     ]
    }
   ],
   "source": [
    "git add my_code.py\n",
    "git commit -m \"add different func\""
   ]
  },
  {
   "cell_type": "code",
   "execution_count": 54,
   "metadata": {
    "collapsed": false
   },
   "outputs": [
    {
     "name": "stdout",
     "output_type": "stream",
     "text": [
      "\u001b[?1h\u001b=* \u001b[33m7dd6c19 (\u001b[1;36mHEAD\u001b[m\u001b[33m, \u001b[1;32mmaster\u001b[m\u001b[33m)\u001b[m add different func\u001b[m\r\n",
      "\u001b[31m|\u001b[m * \u001b[33mab1c8c1 (\u001b[1;32mfeature1\u001b[m\u001b[33m)\u001b[m add fancy func\u001b[m\r\n",
      "\u001b[31m|\u001b[m\u001b[31m/\u001b[m  \u001b[m\r\n",
      "* \u001b[33m2959d02\u001b[m Add cube root function.\u001b[m\r\n",
      "* \u001b[33me30fa10\u001b[m Make z array.\u001b[m\r\n",
      "\u001b[32m|\u001b[m *   \u001b[33m1f19f71 (\u001b[1;35mrefs/stash\u001b[m\u001b[33m)\u001b[m WIP on master: 8a02267 Make y.\u001b[m\r\n",
      "\u001b[32m|\u001b[m \u001b[32m|\u001b[m\u001b[34m\\\u001b[m  \u001b[m\r\n",
      "\u001b[32m|\u001b[m\u001b[32m/\u001b[m \u001b[34m/\u001b[m  \u001b[m\r\n",
      "\u001b[32m|\u001b[m * \u001b[33mfde8e9a\u001b[m index on master: 8a02267 Make y.\u001b[m\r\n",
      "\u001b[32m|\u001b[m\u001b[32m/\u001b[m  \u001b[m\r\n",
      "* \u001b[33m8a02267\u001b[m Make y.\u001b[m\r\n",
      "* \u001b[33mf9fa647\u001b[m Revert \"Make x.\"\u001b[m\r\n",
      "* \u001b[33maa2d613\u001b[m Make x.\u001b[m\r\n",
      "* \u001b[33m7142688\u001b[m Start my code.\u001b[m\r\n",
      "\r",
      "\u001b[K\u001b[?1l\u001b>"
     ]
    }
   ],
   "source": [
    "git log --oneline --all --decorate --graph"
   ]
  },
  {
   "cell_type": "code",
   "execution_count": 56,
   "metadata": {
    "collapsed": false
   },
   "outputs": [
    {
     "name": "stdout",
     "output_type": "stream",
     "text": [
      "error: 'merge' is not possible because you have unmerged files.\r\n",
      "hint: Fix them up in the work tree,\r\n",
      "hint: and then use 'git add/rm <file>' as\r\n",
      "hint: appropriate to mark resolution and make a commit,\r\n",
      "hint: or use 'git commit -a'.\r\n",
      "fatal: Exiting because of an unresolved conflict.\r\n"
     ]
    }
   ],
   "source": [
    "git merge feature1"
   ]
  },
  {
   "cell_type": "code",
   "execution_count": 57,
   "metadata": {
    "collapsed": false
   },
   "outputs": [
    {
     "name": "stdout",
     "output_type": "stream",
     "text": [
      "# On branch master\r\n",
      "# You have unmerged paths.\r\n",
      "#   (fix conflicts and run \"git commit\")\r\n",
      "#\r\n",
      "# Unmerged paths:\r\n",
      "#   (use \"git add <file>...\" to mark resolution)\r\n",
      "#\r\n",
      "#\t\u001b[31mboth modified:      my_code.py\u001b[m\r\n",
      "#\r\n",
      "no changes added to commit (use \"git add\" and/or \"git commit -a\")\r\n"
     ]
    }
   ],
   "source": [
    "git status"
   ]
  },
  {
   "cell_type": "markdown",
   "metadata": {},
   "source": [
    "*Check out the conflict in my_code.py.*"
   ]
  },
  {
   "cell_type": "code",
   "execution_count": 59,
   "metadata": {
    "collapsed": false
   },
   "outputs": [
    {
     "name": "stdout",
     "output_type": "stream",
     "text": [
      "[master 78d95ae] merge\r\n"
     ]
    }
   ],
   "source": [
    "git add my_code.py\n",
    "git commit -m \"merge\""
   ]
  },
  {
   "cell_type": "code",
   "execution_count": 62,
   "metadata": {
    "collapsed": false
   },
   "outputs": [
    {
     "name": "stdout",
     "output_type": "stream",
     "text": [
      "\u001b[?1h\u001b=*   \u001b[33m78d95ae (\u001b[1;36mHEAD\u001b[m\u001b[33m, \u001b[1;32mmaster\u001b[m\u001b[33m)\u001b[m merge\u001b[m\r\n",
      "\u001b[31m|\u001b[m\u001b[32m\\\u001b[m  \u001b[m\r\n",
      "\u001b[31m|\u001b[m * \u001b[33mab1c8c1 (\u001b[1;32mfeature1\u001b[m\u001b[33m)\u001b[m add fancy func\u001b[m\r\n",
      "* \u001b[32m|\u001b[m \u001b[33m7dd6c19\u001b[m add different func\u001b[m\r\n",
      "\u001b[32m|\u001b[m\u001b[32m/\u001b[m  \u001b[m\r\n",
      "* \u001b[33m2959d02\u001b[m Add cube root function.\u001b[m\r\n",
      "* \u001b[33me30fa10\u001b[m Make z array.\u001b[m\r\n",
      "\u001b[32m|\u001b[m *   \u001b[33m1f19f71 (\u001b[1;35mrefs/stash\u001b[m\u001b[33m)\u001b[m WIP on master: 8a02267 Make y.\u001b[m\r\n",
      "\u001b[32m|\u001b[m \u001b[32m|\u001b[m\u001b[34m\\\u001b[m  \u001b[m\r\n",
      "\u001b[32m|\u001b[m\u001b[32m/\u001b[m \u001b[34m/\u001b[m  \u001b[m\r\n",
      "\u001b[32m|\u001b[m * \u001b[33mfde8e9a\u001b[m index on master: 8a02267 Make y.\u001b[m\r\n",
      "\u001b[32m|\u001b[m\u001b[32m/\u001b[m  \u001b[m\r\n",
      "* \u001b[33m8a02267\u001b[m Make y.\u001b[m\r\n",
      "* \u001b[33mf9fa647\u001b[m Revert \"Make x.\"\u001b[m\r\n",
      "* \u001b[33maa2d613\u001b[m Make x.\u001b[m\r\n",
      "* \u001b[33m7142688\u001b[m Start my code.\u001b[m\r\n",
      "\r",
      "\u001b[K\u001b[?1l\u001b>"
     ]
    }
   ],
   "source": [
    "git log --oneline --all --decorate --graph"
   ]
  },
  {
   "cell_type": "code",
   "execution_count": 63,
   "metadata": {
    "collapsed": false
   },
   "outputs": [
    {
     "name": "stdout",
     "output_type": "stream",
     "text": [
      "# On branch master\r\n",
      "nothing to commit (working directory clean)\r\n"
     ]
    }
   ],
   "source": [
    "git status"
   ]
  },
  {
   "cell_type": "code",
   "execution_count": 64,
   "metadata": {
    "collapsed": false
   },
   "outputs": [
    {
     "name": "stdout",
     "output_type": "stream",
     "text": [
      "Deleted branch feature1 (was ab1c8c1).\r\n"
     ]
    }
   ],
   "source": [
    "git branch -d feature1"
   ]
  },
  {
   "cell_type": "code",
   "execution_count": 65,
   "metadata": {
    "collapsed": false
   },
   "outputs": [
    {
     "name": "stdout",
     "output_type": "stream",
     "text": [
      "\u001b[?1h\u001b=*   \u001b[33m78d95ae (\u001b[1;36mHEAD\u001b[m\u001b[33m, \u001b[1;32mmaster\u001b[m\u001b[33m)\u001b[m merge\u001b[m\r\n",
      "\u001b[31m|\u001b[m\u001b[32m\\\u001b[m  \u001b[m\r\n",
      "\u001b[31m|\u001b[m * \u001b[33mab1c8c1\u001b[m add fancy func\u001b[m\r\n",
      "* \u001b[32m|\u001b[m \u001b[33m7dd6c19\u001b[m add different func\u001b[m\r\n",
      "\u001b[32m|\u001b[m\u001b[32m/\u001b[m  \u001b[m\r\n",
      "* \u001b[33m2959d02\u001b[m Add cube root function.\u001b[m\r\n",
      "* \u001b[33me30fa10\u001b[m Make z array.\u001b[m\r\n",
      "\u001b[32m|\u001b[m *   \u001b[33m1f19f71 (\u001b[1;35mrefs/stash\u001b[m\u001b[33m)\u001b[m WIP on master: 8a02267 Make y.\u001b[m\r\n",
      "\u001b[32m|\u001b[m \u001b[32m|\u001b[m\u001b[34m\\\u001b[m  \u001b[m\r\n",
      "\u001b[32m|\u001b[m\u001b[32m/\u001b[m \u001b[34m/\u001b[m  \u001b[m\r\n",
      "\u001b[32m|\u001b[m * \u001b[33mfde8e9a\u001b[m index on master: 8a02267 Make y.\u001b[m\r\n",
      "\u001b[32m|\u001b[m\u001b[32m/\u001b[m  \u001b[m\r\n",
      "* \u001b[33m8a02267\u001b[m Make y.\u001b[m\r\n",
      "* \u001b[33mf9fa647\u001b[m Revert \"Make x.\"\u001b[m\r\n",
      "* \u001b[33maa2d613\u001b[m Make x.\u001b[m\r\n",
      "* \u001b[33m7142688\u001b[m Start my code.\u001b[m\r\n",
      "\r",
      "\u001b[K\u001b[?1l\u001b>"
     ]
    }
   ],
   "source": [
    "git log --oneline --all --decorate --graph"
   ]
  },
  {
   "cell_type": "markdown",
   "metadata": {},
   "source": [
    "### Examples of merge conflicts:\n",
    "* *A file was modified in two different branches in different ways.*\n",
    "* *A file was modified in one branch and deleted in another.*\n",
    "* *A file was renamed in one branch and deleted in another.*\n",
    "* *And more!*\n",
    "\n",
    "### Examples of nonconflicts:\n",
    "* *A file was modified in only one branch.*\n",
    "* *A file was deleted in only one branch.*\n",
    "* *And more!*"
   ]
  },
  {
   "cell_type": "markdown",
   "metadata": {},
   "source": [
    "# Remote branches and GitHub"
   ]
  },
  {
   "cell_type": "markdown",
   "metadata": {},
   "source": [
    "*Make a new GitHub repo (http://github.com)*\n",
    "\n",
    "*Once your GitHub repo has been made public, anyone can make a copy of it on their own machine using:*\n",
    "\n",
    "```\n",
    "git clone https://github.com/your_username/my_project\n",
    "```\n",
    "\n",
    "*Our goal, however, is to connect our local repo to our remote repo on GitHub. This can be done in the following way:*"
   ]
  },
  {
   "cell_type": "code",
   "execution_count": 66,
   "metadata": {
    "collapsed": false
   },
   "outputs": [
    {
     "name": "stdout",
     "output_type": "stream",
     "text": []
    }
   ],
   "source": [
    "git remote add origin https://github.com/rkp8000/my_project"
   ]
  },
  {
   "cell_type": "code",
   "execution_count": 71,
   "metadata": {
    "collapsed": false
   },
   "outputs": [
    {
     "name": "stdout",
     "output_type": "stream",
     "text": [
      "origin\thttps://github.com/rkp8000/my_project (fetch)\r\n",
      "origin\thttps://github.com/rkp8000/my_project (push)\r\n"
     ]
    }
   ],
   "source": [
    "git remote -v"
   ]
  },
  {
   "cell_type": "markdown",
   "metadata": {},
   "source": [
    "*The command * `git push <remote destination> <branch>` * allows us to try to merge a branch from our local with a branch on our remote repo.*\n",
    "\n",
    "*Unless you have your credentials stored in your keychain you'll need to run this in the actual command line so that you can enter in your username and password. So enter:*\n",
    "\n",
    "```\n",
    "git push origin master\n",
    "```\n",
    "\n",
    "*This attempts to merge the master branch on your local repo with the master branch on your remote repo.*"
   ]
  },
  {
   "cell_type": "markdown",
   "metadata": {},
   "source": [
    "*Now if we go back to our GitHub site we'll see our master branch.*"
   ]
  },
  {
   "cell_type": "markdown",
   "metadata": {},
   "source": [
    "# Collaborating\n",
    "*There are two main collaborative models that are frequently used.*"
   ]
  },
  {
   "cell_type": "markdown",
   "metadata": {},
   "source": [
    "### Shared repository model\n",
    "*In this model all collaborators have push access to a single repo on GitHub*\n",
    "([*more details here*](https://help.github.com/articles/using-pull-requests/))."
   ]
  },
  {
   "cell_type": "markdown",
   "metadata": {},
   "source": [
    "*When multiple people are pushing to the same repository, it may happen that the repository gets somewhat ahead of you and you want to bring yourself up to date.*\n",
    "\n",
    "*To do this we use the command:* \n",
    "```\n",
    "git fetch origin\n",
    "```\n",
    "\n",
    "*This command looks at your master branch and at origin's master branch, finds the last commit before their histories diverged (call this commit X), and creates a new \"remote-tracking\" branch in your local repository named 'origin/master' that diverges from your master branch at commit X.*"
   ]
  },
  {
   "cell_type": "markdown",
   "metadata": {},
   "source": [
    "*You can then attempt to merge the remote-tracking branch 'origin/master' into your own master branch using:*\n",
    "```\n",
    "git merge\n",
    "```"
   ]
  },
  {
   "cell_type": "markdown",
   "metadata": {},
   "source": [
    "*Just like before, if there were merge conflicts, you'll have to handle them and then commit the modified files.*\n",
    "\n",
    "*When you are done with the merge, you can push all of your changes back to the GitHub repo using:*\n",
    "```\n",
    "git push origin master\n",
    "```"
   ]
  },
  {
   "cell_type": "markdown",
   "metadata": {},
   "source": [
    "### Forked repository model\n",
    "*In this model most collaborators don't have push access to the main repository* ([*more details here*](https://help.github.com/articles/using-pull-requests/))."
   ]
  },
  {
   "cell_type": "code",
   "execution_count": null,
   "metadata": {
    "collapsed": true
   },
   "outputs": [],
   "source": []
  }
 ],
 "metadata": {
  "kernelspec": {
   "display_name": "Bash",
   "language": "bash",
   "name": "bash"
  },
  "language_info": {
   "codemirror_mode": "shell",
   "file_extension": ".sh",
   "mimetype": "text/x-sh",
   "name": "bash"
  }
 },
 "nbformat": 4,
 "nbformat_minor": 0
}

{
 "cells": [
  {
   "cell_type": "markdown",
   "metadata": {},
   "source": [
    "# Data types"
   ]
  },
  {
   "cell_type": "code",
   "execution_count": 1,
   "metadata": {
    "collapsed": false
   },
   "outputs": [
    {
     "name": "stdout",
     "output_type": "stream",
     "text": [
      "I am not a computer.\n"
     ]
    }
   ],
   "source": [
    "message = \"I am not a computer.\"\n",
    "print message"
   ]
  },
  {
   "cell_type": "code",
   "execution_count": 2,
   "metadata": {
    "collapsed": true
   },
   "outputs": [],
   "source": [
    "my_int = 42\n",
    "my_float = 2.71848\n",
    "my_string = \"piece of yarn\"\n",
    "my_list = [1, 2, 3, 4, \"five\"]\n",
    "my_tuple = ('a', 'b', 1, 2.4)\n",
    "my_dictionary = {'first_name': 'Hairy', 'second_name': 'Larry'}\n",
    "my_null = None"
   ]
  },
  {
   "cell_type": "code",
   "execution_count": 4,
   "metadata": {
    "collapsed": false
   },
   "outputs": [
    {
     "name": "stdout",
     "output_type": "stream",
     "text": [
      "42\n",
      "('a', 'b', 1, 2.4)\n",
      "None\n"
     ]
    }
   ],
   "source": [
    "print my_int\n",
    "print my_tuple\n",
    "print my_null"
   ]
  }
 ],
 "metadata": {
  "kernelspec": {
   "display_name": "Python 2",
   "language": "python",
   "name": "python2"
  },
  "language_info": {
   "codemirror_mode": {
    "name": "ipython",
    "version": 2
   },
   "file_extension": ".py",
   "mimetype": "text/x-python",
   "name": "python",
   "nbconvert_exporter": "python",
   "pygments_lexer": "ipython2",
   "version": "2.7.9"
  }
 },
 "nbformat": 4,
 "nbformat_minor": 0
}

{
 "cells": [
  {
   "cell_type": "markdown",
   "metadata": {
    "collapsed": true
   },
   "source": [
    "# Dictionaries"
   ]
  },
  {
   "cell_type": "code",
   "execution_count": 8,
   "metadata": {
    "collapsed": false
   },
   "outputs": [
    {
     "data": {
      "text/plain": [
       "{'a': 1, 'b': 2}"
      ]
     },
     "execution_count": 8,
     "metadata": {},
     "output_type": "execute_result"
    }
   ],
   "source": [
    "# Dictionaries are unordered collections of objects (\"values\") indexed by \"keys\"\n",
    "# They can be created all at once\n",
    "dict1 = {'a':1, 'b':2}\n",
    "dict1"
   ]
  },
  {
   "cell_type": "code",
   "execution_count": 26,
   "metadata": {
    "collapsed": false
   },
   "outputs": [
    {
     "data": {
      "text/plain": [
       "{'a': 5, 'b': 6}"
      ]
     },
     "execution_count": 26,
     "metadata": {},
     "output_type": "execute_result"
    }
   ],
   "source": [
    "# Or piece by piece\n",
    "dict2 = {}\n",
    "dict2['a'] = 5\n",
    "dict2['b'] = 6\n",
    "dict2"
   ]
  },
  {
   "cell_type": "code",
   "execution_count": 27,
   "metadata": {
    "collapsed": false
   },
   "outputs": [
    {
     "data": {
      "text/plain": [
       "{'a': 5, 'b': 6, 'c': [3, 4, 5], 'd': 'hello'}"
      ]
     },
     "execution_count": 27,
     "metadata": {},
     "output_type": "execute_result"
    }
   ],
   "source": [
    "# Values can be any object\n",
    "dict2['c'] = [3, 4, 5]\n",
    "dict2['d'] = 'hello'\n",
    "dict2"
   ]
  },
  {
   "cell_type": "code",
   "execution_count": 28,
   "metadata": {
    "collapsed": false
   },
   "outputs": [
    {
     "data": {
      "text/plain": [
       "{3: 'apples', 'a': 5, 'b': 6, 'c': [3, 4, 5], 'd': 'hello'}"
      ]
     },
     "execution_count": 28,
     "metadata": {},
     "output_type": "execute_result"
    }
   ],
   "source": [
    "# Keys can be any hashable (immutable) type\n",
    "dict2[3] = 'apples'\n",
    "dict2"
   ]
  },
  {
   "cell_type": "code",
   "execution_count": 29,
   "metadata": {
    "collapsed": false
   },
   "outputs": [
    {
     "data": {
      "text/plain": [
       "{3: 'apples',\n",
       " 'a': 5,\n",
       " 'b': 6,\n",
       " 'c': [3, 4, 5],\n",
       " 'd': 'hello',\n",
       " ('LGN', 'V1'): 'connection present'}"
      ]
     },
     "execution_count": 29,
     "metadata": {},
     "output_type": "execute_result"
    }
   ],
   "source": [
    "# Tuples can be useful keys\n",
    "dict2[('LGN','V1')] = 'connection present'\n",
    "dict2"
   ]
  },
  {
   "cell_type": "code",
   "execution_count": 30,
   "metadata": {
    "collapsed": false
   },
   "outputs": [
    {
     "ename": "TypeError",
     "evalue": "unhashable type: 'list'",
     "output_type": "error",
     "traceback": [
      "\u001b[0;31m---------------------------------------------------------------------------\u001b[0m",
      "\u001b[0;31mTypeError\u001b[0m                                 Traceback (most recent call last)",
      "\u001b[0;32m<ipython-input-30-4dee246a6deb>\u001b[0m in \u001b[0;36m<module>\u001b[0;34m()\u001b[0m\n\u001b[1;32m      1\u001b[0m \u001b[0;31m# Lists can't be keys since they're mutable\u001b[0m\u001b[0;34m\u001b[0m\u001b[0;34m\u001b[0m\u001b[0m\n\u001b[0;32m----> 2\u001b[0;31m \u001b[0mdict2\u001b[0m\u001b[0;34m[\u001b[0m\u001b[0;34m[\u001b[0m\u001b[0;36m3\u001b[0m\u001b[0;34m,\u001b[0m\u001b[0;36m8\u001b[0m\u001b[0;34m]\u001b[0m\u001b[0;34m]\u001b[0m \u001b[0;34m=\u001b[0m \u001b[0;36m900\u001b[0m\u001b[0;34m\u001b[0m\u001b[0m\n\u001b[0m",
      "\u001b[0;31mTypeError\u001b[0m: unhashable type: 'list'"
     ]
    }
   ],
   "source": [
    "# Lists can't be keys since they're mutable\n",
    "dict2[[3,8]] = 900"
   ]
  },
  {
   "cell_type": "code",
   "execution_count": 15,
   "metadata": {
    "collapsed": false
   },
   "outputs": [
    {
     "data": {
      "text/plain": [
       "['a', 'c', 3, 'd', 'b', (4, 6)]"
      ]
     },
     "execution_count": 15,
     "metadata": {},
     "output_type": "execute_result"
    }
   ],
   "source": [
    "# Useful dictionary methods\n",
    "dict2.keys()"
   ]
  },
  {
   "cell_type": "code",
   "execution_count": 16,
   "metadata": {
    "collapsed": false
   },
   "outputs": [
    {
     "data": {
      "text/plain": [
       "[5, [3, 4, 5], 'apples', 'hello', 6, 'LGN to V1 connection']"
      ]
     },
     "execution_count": 16,
     "metadata": {},
     "output_type": "execute_result"
    }
   ],
   "source": [
    "dict2.values()"
   ]
  },
  {
   "cell_type": "code",
   "execution_count": 17,
   "metadata": {
    "collapsed": false
   },
   "outputs": [
    {
     "data": {
      "text/plain": [
       "[('a', 5),\n",
       " ('c', [3, 4, 5]),\n",
       " (3, 'apples'),\n",
       " ('d', 'hello'),\n",
       " ('b', 6),\n",
       " ((4, 6), 'LGN to V1 connection')]"
      ]
     },
     "execution_count": 17,
     "metadata": {},
     "output_type": "execute_result"
    }
   ],
   "source": [
    "dict2.items()"
   ]
  },
  {
   "cell_type": "code",
   "execution_count": 18,
   "metadata": {
    "collapsed": false
   },
   "outputs": [
    {
     "data": {
      "text/plain": [
       "5"
      ]
     },
     "execution_count": 18,
     "metadata": {},
     "output_type": "execute_result"
    }
   ],
   "source": [
    "dict2.get('a', 'default_return_string')"
   ]
  },
  {
   "cell_type": "code",
   "execution_count": 19,
   "metadata": {
    "collapsed": false
   },
   "outputs": [
    {
     "data": {
      "text/plain": [
       "'default_return_string'"
      ]
     },
     "execution_count": 19,
     "metadata": {},
     "output_type": "execute_result"
    }
   ],
   "source": [
    "dict2.get('q', 'default_return_string')"
   ]
  },
  {
   "cell_type": "markdown",
   "metadata": {},
   "source": [
    "# Loops"
   ]
  },
  {
   "cell_type": "code",
   "execution_count": 22,
   "metadata": {
    "collapsed": false
   },
   "outputs": [
    {
     "name": "stdout",
     "output_type": "stream",
     "text": [
      "1\n",
      "2\n",
      "3\n",
      "100\n"
     ]
    }
   ],
   "source": [
    "# for loops move across any \"iterable\"\n",
    "# control flow statements use \":\" and require indentation\n",
    "my_list = [1, 2, 3, 100]\n",
    "for x in my_list:\n",
    "    print x"
   ]
  },
  {
   "cell_type": "code",
   "execution_count": 24,
   "metadata": {
    "collapsed": false
   },
   "outputs": [
    {
     "name": "stdout",
     "output_type": "stream",
     "text": [
      "The letter is a.\n",
      "The number is 1.\n",
      "The letter is b.\n",
      "The number is 2.\n",
      "The letter is c.\n",
      "The number is 3.\n"
     ]
    }
   ],
   "source": [
    "# for loops can loop over multiple values\n",
    "my_list = [('a', 1), ('b', 2), ('c', 3)]\n",
    "for letter, number in my_list:\n",
    "    print \"The letter is %s.\" % letter\n",
    "    print \"The number is %d.\" % number"
   ]
  },
  {
   "cell_type": "code",
   "execution_count": 32,
   "metadata": {
    "collapsed": false
   },
   "outputs": [
    {
     "name": "stdout",
     "output_type": "stream",
     "text": [
      "Region 'cortex' has volume 83.100000.\n",
      "Region 'brainstem' has volume 12.600000.\n",
      "Region 'thalamus' has volume 9.200000.\n"
     ]
    }
   ],
   "source": [
    "# dictionaries can be easily looped over with \".iteritems()\"\n",
    "my_dict = {'cortex': 83.1, 'thalamus': 9.2, 'brainstem': 12.6}\n",
    "for brain_region, volume in my_dict.iteritems():\n",
    "    print \"Region '%s' has volume %f.\" % (brain_region, volume)"
   ]
  },
  {
   "cell_type": "code",
   "execution_count": 36,
   "metadata": {
    "collapsed": false
   },
   "outputs": [
    {
     "name": "stdout",
     "output_type": "stream",
     "text": [
      "Word number 0 is 'the'\n",
      "Word number 1 is 'rain'\n",
      "Word number 2 is 'in'\n",
      "Word number 3 is 'spain'\n"
     ]
    }
   ],
   "source": [
    "# the \"enumerate\" builtin provides a counter with your iterable\n",
    "words = [\"the\", \"rain\", \"in\", \"spain\"]\n",
    "for ctr, word in enumerate(words):\n",
    "    print \"Word number %d is '%s'\" % (ctr, word)"
   ]
  },
  {
   "cell_type": "code",
   "execution_count": 46,
   "metadata": {
    "collapsed": false
   },
   "outputs": [
    {
     "name": "stdout",
     "output_type": "stream",
     "text": [
      "0\n",
      "1\n",
      "2\n",
      "3\n",
      "4\n"
     ]
    }
   ],
   "source": [
    "# Simple time-stepper in a while loop\n",
    "t = 0\n",
    "while t < 5:\n",
    "    print t\n",
    "    t += 1"
   ]
  },
  {
   "cell_type": "markdown",
   "metadata": {},
   "source": [
    "# Conditionals"
   ]
  },
  {
   "cell_type": "code",
   "execution_count": 38,
   "metadata": {
    "collapsed": false
   },
   "outputs": [
    {
     "name": "stdout",
     "output_type": "stream",
     "text": [
      "hooray!\n"
     ]
    }
   ],
   "source": [
    "# conditionals also require \":\" and indentation\n",
    "x = 4\n",
    "if x > 3:\n",
    "    print \"hooray!\"\n",
    "else:\n",
    "    print \"oh no!\""
   ]
  },
  {
   "cell_type": "code",
   "execution_count": 40,
   "metadata": {
    "collapsed": false
   },
   "outputs": [
    {
     "name": "stdout",
     "output_type": "stream",
     "text": [
      "not bad...\n"
     ]
    }
   ],
   "source": [
    "x = 0\n",
    "if x > 3:\n",
    "    print \"hooray!\"\n",
    "elif x < 1:\n",
    "    print \"not bad...\"\n",
    "else:\n",
    "    print \"oh no!\""
   ]
  },
  {
   "cell_type": "code",
   "execution_count": 42,
   "metadata": {
    "collapsed": false
   },
   "outputs": [
    {
     "name": "stdout",
     "output_type": "stream",
     "text": [
      "oh no!\n"
     ]
    }
   ],
   "source": [
    "# conditionals can be compounded\n",
    "x = 'a'\n",
    "y = 'b'\n",
    "if x == 'a' and y == 'c':\n",
    "    print \"hooray!\"\n",
    "else:\n",
    "    print \"oh no!\""
   ]
  },
  {
   "cell_type": "code",
   "execution_count": 43,
   "metadata": {
    "collapsed": false
   },
   "outputs": [
    {
     "name": "stdout",
     "output_type": "stream",
     "text": [
      "hooray!\n"
     ]
    }
   ],
   "source": [
    "if x == 'a' or y == 'c':\n",
    "    print \"hooray!\"\n",
    "else:\n",
    "    print \"oh no!\""
   ]
  },
  {
   "cell_type": "code",
   "execution_count": 35,
   "metadata": {
    "collapsed": false
   },
   "outputs": [
    {
     "name": "stdout",
     "output_type": "stream",
     "text": [
      "yep!\n"
     ]
    }
   ],
   "source": [
    "# the \"in\" keyword is your friend\n",
    "y = ['a', 'b', 'c', 'd']\n",
    "x = 'b'\n",
    "if x in y:\n",
    "    print \"yep!\""
   ]
  },
  {
   "cell_type": "code",
   "execution_count": 45,
   "metadata": {
    "collapsed": false
   },
   "outputs": [
    {
     "name": "stdout",
     "output_type": "stream",
     "text": [
      "testing value 3\n",
      "testing value 7\n",
      "testing value 9\n",
      "testing value 11\n",
      "testing value 14\n",
      "testing value 15\n",
      "multiple of 5 found!\n"
     ]
    }
   ],
   "source": [
    "# conditionals can be used to break out of loops\n",
    "my_list = [3, 7, 9, 11, 14, 15, 29, 31]\n",
    "for value in my_list:\n",
    "    print \"testing value %d\" % value\n",
    "    if value%5 == 0:\n",
    "        print \"multiple of 5 found!\"\n",
    "        break"
   ]
  }
 ],
 "metadata": {
  "kernelspec": {
   "display_name": "Python 2",
   "language": "python",
   "name": "python2"
  },
  "language_info": {
   "codemirror_mode": {
    "name": "ipython",
    "version": 2
   },
   "file_extension": ".py",
   "mimetype": "text/x-python",
   "name": "python",
   "nbconvert_exporter": "python",
   "pygments_lexer": "ipython2",
   "version": "2.7.9"
  }
 },
 "nbformat": 4,
 "nbformat_minor": 0
}
